{
  "nbformat": 4,
  "nbformat_minor": 0,
  "metadata": {
    "colab": {
      "provenance": [],
      "include_colab_link": true
    },
    "kernelspec": {
      "name": "python3",
      "display_name": "Python 3"
    },
    "language_info": {
      "name": "python"
    }
  },
  "cells": [
    {
      "cell_type": "markdown",
      "metadata": {
        "id": "view-in-github",
        "colab_type": "text"
      },
      "source": [
        "<a href=\"https://colab.research.google.com/github/Prabhjot-Singh1/ADSAL_LAB_/blob/main/assignment_5.ipynb\" target=\"_parent\"><img src=\"https://colab.research.google.com/assets/colab-badge.svg\" alt=\"Open In Colab\"/></a>"
      ]
    },
    {
      "cell_type": "markdown",
      "source": [
        "1. Write a program to reverse a singly linked list (implement both iterative and recursive methods)."
      ],
      "metadata": {
        "id": "zqyWkEw7FC9a"
      }
    },
    {
      "cell_type": "code",
      "execution_count": 1,
      "metadata": {
        "colab": {
          "base_uri": "https://localhost:8080/"
        },
        "id": "uoxt8MnmEmD4",
        "outputId": "caca9573-ec94-48ff-bd5e-66a2f2c8812d"
      },
      "outputs": [
        {
          "output_type": "stream",
          "name": "stdout",
          "text": [
            "Writing reverseList.c\n"
          ]
        }
      ],
      "source": [
        "%%writefile reverseList.c\n",
        "#include<stdio.h>\n",
        "#include<stdlib.h>\n",
        "\n",
        "// structure of a node\n",
        "struct node {\n",
        "    int d;\n",
        "    struct node * next;\n",
        "};\n",
        "\n",
        "// function to insert a node at the end\n",
        "struct node * insert_At_end(struct node * head, int d)\n",
        "{\n",
        "    struct node * new=(struct node *)malloc(sizeof(struct node));\n",
        "    new->d=d;\n",
        "    new->next=NULL;\n",
        "\n",
        "    if(head==NULL)\n",
        "    {\n",
        "        return new;\n",
        "    }\n",
        "\n",
        "    struct node * temp=head;\n",
        "    while(temp->next!=NULL)\n",
        "    {\n",
        "        temp=temp->next;\n",
        "    }\n",
        "\n",
        "    temp->next=new;\n",
        "    return head;\n",
        "\n",
        "}\n",
        "\n",
        "//function to insert a node at the end\n",
        "struct node * insert_At_Beginning(struct node * head, int d)\n",
        "{\n",
        "    struct node * new=(struct node *)malloc(sizeof(struct node));\n",
        "    new->d=d;\n",
        "    new->next=NULL;\n",
        "\n",
        "    if(head==NULL)\n",
        "    {\n",
        "        return new;\n",
        "    }\n",
        "\n",
        "    new->next=head;\n",
        "    head=new;\n",
        "    return head;\n",
        "\n",
        "}\n",
        "\n",
        "// function to print the linked list\n",
        "void printList(struct node * head)\n",
        "{\n",
        "    struct node * temp=head;\n",
        "    while(temp!=NULL)\n",
        "    {\n",
        "\n",
        "        printf(\"%d \",temp->d);\n",
        "        temp=temp->next;\n",
        "    }\n",
        "    printf(\"\\n\");\n",
        "}\n",
        "\n",
        "\n",
        "\n",
        "//function to reverse the linked list using iterative approach\n",
        "struct node * ReverseList(struct node * head)\n",
        "{\n",
        "    struct node * temp=head;\n",
        "    struct node * prev=NULL;\n",
        "    while(temp!=NULL)\n",
        "    {\n",
        "        temp=head->next;\n",
        "        head->next=prev;\n",
        "        prev=head;\n",
        "        head=temp;\n",
        "\n",
        "    }\n",
        "\n",
        "\n",
        "    return prev;\n",
        "}\n",
        "\n",
        "\n",
        "// funtion to reverse the linked list using recursion\n",
        "struct node * ReverseList_Recursion(struct node * head,struct node * temp,struct node * prev)\n",
        "{\n",
        "\n",
        "    if(temp==NULL)\n",
        "    {\n",
        "        return prev;\n",
        "    }\n",
        "\n",
        "    temp=head->next;\n",
        "    head->next=prev;\n",
        "    prev=head;\n",
        "    head=temp;\n",
        "\n",
        "    ReverseList_Recursion(head,temp,prev);\n",
        "}\n",
        "\n",
        "int main()\n",
        "{\n",
        "    struct node *head=NULL;\n",
        "    head=insert_At_end(head,1);\n",
        "    head=insert_At_end(head,2);\n",
        "    head=insert_At_end(head,3);\n",
        "    head=insert_At_end(head,4);\n",
        "    head=insert_At_end(head,5);\n",
        "    head=insert_At_end(head,6);\n",
        "\n",
        "    printf(\"Here is the original list\\n\");\n",
        "    printList(head);\n",
        "\n",
        "    printf(\"\\nHere is the list after reversing with the iterative approach\\n\");\n",
        "    head=ReverseList(head);\n",
        "    printList(head);\n",
        "\n",
        "    printf(\"\\nReversing the list to original using the recursive appraoch\\n\");\n",
        "    head=ReverseList_Recursion(head,head,NULL);\n",
        "    printList(head);\n",
        "\n",
        "\n",
        "\n",
        "    return 0;\n",
        "}\n"
      ]
    },
    {
      "cell_type": "code",
      "source": [
        "! gcc reverseList.c -o reverseList\n",
        "!chmod +x reverseList\n",
        "!./reverseList"
      ],
      "metadata": {
        "colab": {
          "base_uri": "https://localhost:8080/"
        },
        "id": "srxp0IeUIcAG",
        "outputId": "e6ce61ad-38dd-4764-ef85-83c01f5bc6bc"
      },
      "execution_count": 2,
      "outputs": [
        {
          "output_type": "stream",
          "name": "stdout",
          "text": [
            "Here is the original list\n",
            "1 2 3 4 5 6 \n",
            "\n",
            "Here is the list after reversing with the iterative approach\n",
            "6 5 4 3 2 1 \n",
            "\n",
            "Reversing the list to original using the recursive appraoch\n",
            "1 2 3 4 5 6 \n"
          ]
        }
      ]
    },
    {
      "cell_type": "markdown",
      "source": [
        "2. Write a program to search for a given element in a linked list and print its position."
      ],
      "metadata": {
        "id": "P56wkq2wIjPY"
      }
    },
    {
      "cell_type": "code",
      "source": [
        "%%writefile searchList.c\n",
        "#include <stdio.h>\n",
        "#include <stdlib.h>\n",
        "\n",
        "struct node {\n",
        "    int data;\n",
        "    struct node *next;\n",
        "};\n",
        "\n",
        "// function to create a node\n",
        "\n",
        "struct node* createNode(int data) {\n",
        "    struct node* newNode = (struct node*)malloc(sizeof(struct node));\n",
        "    newNode->data = data;\n",
        "    newNode->next = NULL;\n",
        "    return newNode;\n",
        "}\n",
        "\n",
        "// Simple insert function that inserts at the end\n",
        "\n",
        "struct node* insert(struct node* head, int data) {\n",
        "    struct node* newNode = createNode(data);\n",
        "\n",
        "\n",
        "    if (head == NULL)\n",
        "        return newNode;\n",
        "\n",
        "    struct node* temp = head;\n",
        "    while (temp->next != NULL)\n",
        "        temp = temp->next;\n",
        "\n",
        "    temp->next = newNode;\n",
        "    return head;\n",
        "}\n",
        "\n",
        "\n",
        "// Function to print the linked list\n",
        "\n",
        "void printList(struct node* head) {\n",
        "    struct node* temp = head;\n",
        "    while (temp != NULL) {\n",
        "        printf(\"%d -> \", temp->data);\n",
        "        temp = temp->next;\n",
        "    }\n",
        "    printf(\"NULL\\n\");\n",
        "}\n",
        "\n",
        "int searchList(struct node* head, int target) {\n",
        "    int position = 1;\n",
        "    struct node* current = head;\n",
        "\n",
        "    while (current != NULL) {\n",
        "        if (current->data == target) {\n",
        "            return position;\n",
        "        }\n",
        "        current = current->next;\n",
        "        position++;\n",
        "    }\n",
        "\n",
        "    return -1;\n",
        "}\n",
        "\n",
        "int main(){\n",
        "\n",
        "  struct node* head = NULL;\n",
        "\n",
        "    head = insert(head, 10);\n",
        "    head = insert(head, 20);\n",
        "    head = insert(head, 30);\n",
        "    head = insert(head, 40);\n",
        "    head = insert(head, 50);\n",
        "    head = insert(head, 60);\n",
        "\n",
        "    printf(\"Original Linked List: \");\n",
        "    printList(head);\n",
        "\n",
        "    int target = 30;\n",
        "    int position = searchList(head, target);\n",
        "\n",
        "    if (position != -1) {\n",
        "        printf(\"Element %d found at position %d\\n\", target, position);\n",
        "        } else {\n",
        "        printf(\"Element %d not found in the list\\n\", target);\n",
        "    }\n",
        "\n",
        "    return 0;\n",
        "}\n",
        "\n",
        "\n",
        "\n",
        "\n",
        "\n",
        "\n"
      ],
      "metadata": {
        "colab": {
          "base_uri": "https://localhost:8080/"
        },
        "id": "m3pZxBDwNpKy",
        "outputId": "822ca46d-f3ab-43a1-e1ab-7863af42bf8b"
      },
      "execution_count": 3,
      "outputs": [
        {
          "output_type": "stream",
          "name": "stdout",
          "text": [
            "Writing searchList.c\n"
          ]
        }
      ]
    },
    {
      "cell_type": "code",
      "source": [
        "!gcc searchList.c -o searchList\n",
        "!chmod +x searchList\n",
        "!./searchList"
      ],
      "metadata": {
        "colab": {
          "base_uri": "https://localhost:8080/"
        },
        "id": "B-HFCO5YTPoD",
        "outputId": "530a4496-52d5-4281-f308-72da60b72f93"
      },
      "execution_count": 4,
      "outputs": [
        {
          "output_type": "stream",
          "name": "stdout",
          "text": [
            "Original Linked List: 10 -> 20 -> 30 -> 40 -> 50 -> 60 -> NULL\n",
            "Element 30 found at position 3\n"
          ]
        }
      ]
    },
    {
      "cell_type": "markdown",
      "source": [
        "3. Create a singly linked list of n nodes and display all its elements."
      ],
      "metadata": {
        "id": "eWelBcz4TSU5"
      }
    },
    {
      "cell_type": "code",
      "source": [
        "%%writefile create.c\n",
        "#include <stdio.h>\n",
        "#include <stdlib.h>\n",
        "\n",
        "struct node {\n",
        "    int data;\n",
        "    struct node *next;\n",
        "};\n",
        "\n",
        "struct node* createNode(int data) {\n",
        "    struct node* newNode = (struct node*)malloc(sizeof(struct node));\n",
        "    newNode->data = data;\n",
        "    newNode->next = NULL;\n",
        "    return newNode;\n",
        "}\n",
        "\n",
        "// Simple insert function that inserts at the end\n",
        "\n",
        "struct node* insert(struct node* head, int data) {\n",
        "    struct node* newNode = createNode(data);\n",
        "\n",
        "\n",
        "    if (head == NULL)\n",
        "        return newNode;\n",
        "\n",
        "    struct node* temp = head;\n",
        "    while (temp->next != NULL)\n",
        "        temp = temp->next;\n",
        "\n",
        "    temp->next = newNode;\n",
        "    return head;\n",
        "}\n",
        "\n",
        "\n",
        "// Function to print the linked list\n",
        "\n",
        "void printList(struct node* head) {\n",
        "    struct node* temp = head;\n",
        "    while (temp != NULL) {\n",
        "        printf(\"%d -> \", temp->data);\n",
        "        temp = temp->next;\n",
        "    }\n",
        "    printf(\"NULL\\n\");\n",
        "}\n",
        "\n",
        "int main(){\n",
        "    struct node* head = NULL;\n",
        "    int n;\n",
        "    printf(\"Enter the number of nodes: \");\n",
        "    scanf(\"%d\", &n);\n",
        "\n",
        "    for (int i = 0; i < n; i++) {\n",
        "        int data;\n",
        "        printf(\"Enter data for node %d: \", i + 1);\n",
        "        scanf(\"%d\", &data);\n",
        "        head = insert(head, data);\n",
        "    }\n",
        "\n",
        "    printf(\"Linked List: \");\n",
        "    printList(head);\n",
        "\n",
        "}\n",
        "\n",
        "\n",
        "\n",
        "\n"
      ],
      "metadata": {
        "colab": {
          "base_uri": "https://localhost:8080/"
        },
        "id": "1B44YjCXUSOr",
        "outputId": "159d2b1d-7c76-4a95-ed74-467a05a3b7ad"
      },
      "execution_count": 5,
      "outputs": [
        {
          "output_type": "stream",
          "name": "stdout",
          "text": [
            "Writing create.c\n"
          ]
        }
      ]
    },
    {
      "cell_type": "code",
      "source": [
        "!gcc create.c -o create\n",
        "!chmod +x create\n",
        "!./create"
      ],
      "metadata": {
        "colab": {
          "base_uri": "https://localhost:8080/"
        },
        "id": "HqtzKcQmXpEu",
        "outputId": "a78e11ca-14c5-493a-9a60-0a29954f57e7"
      },
      "execution_count": 6,
      "outputs": [
        {
          "output_type": "stream",
          "name": "stdout",
          "text": [
            "Enter the number of nodes: 4\n",
            "Enter data for node 1: 1\n",
            "Enter data for node 2: 2\n",
            "Enter data for node 3: 3\n",
            "Enter data for node 4: 4\n",
            "Linked List: 1 -> 2 -> 3 -> 4 -> NULL\n"
          ]
        }
      ]
    },
    {
      "cell_type": "markdown",
      "source": [
        "4. Write a program to detect whether a linked list contains a loop using Floyd’s Cycle Detection\n",
        "Algorithm."
      ],
      "metadata": {
        "id": "ggWmyU9JX1Rb"
      }
    },
    {
      "cell_type": "code",
      "source": [
        "%%writefile scanCycle.c\n",
        "#include<stdio.h>\n",
        "#include<stdlib.h>\n",
        "\n",
        "struct node {\n",
        "    int data;\n",
        "    struct node *next;\n",
        "};\n",
        "\n",
        "struct node* createNode(int data) {\n",
        "    struct node* newNode = (struct node*)malloc(sizeof(struct node));\n",
        "    newNode->data = data;\n",
        "    newNode->next = NULL;\n",
        "    return newNode;\n",
        "}\n",
        "\n",
        "// Simple insert function that inserts at the end\n",
        "\n",
        "struct node* insert(struct node* head, int data) {\n",
        "    struct node* newNode = createNode(data);\n",
        "\n",
        "\n",
        "    if (head == NULL)\n",
        "        return newNode;\n",
        "\n",
        "    struct node* temp = head;\n",
        "    while (temp->next != NULL)\n",
        "        temp = temp->next;\n",
        "\n",
        "    temp->next = newNode;\n",
        "    return head;\n",
        "}\n",
        "\n",
        "\n",
        "// Function to print the linked list\n",
        "\n",
        "void printList(struct node* head) {\n",
        "    struct node* temp = head;\n",
        "    while (temp != NULL) {\n",
        "        printf(\"%d -> \", temp->data);\n",
        "        temp = temp->next;\n",
        "    }\n",
        "    printf(\"NULL\\n\");\n",
        "}\n",
        "\n",
        "int detectCycle(struct node* head) {\n",
        "    struct node* slow = head;\n",
        "    struct node* fast = head;\n",
        "    while (fast != NULL && fast->next != NULL) {\n",
        "        slow = slow->next;\n",
        "        fast = fast->next->next;\n",
        "        if (slow == fast) {\n",
        "            return 1;\n",
        "        }\n",
        "    }\n",
        "    return 0;\n",
        "}\n",
        "\n",
        "int main() {\n",
        "    struct node* head = NULL;\n",
        "\n",
        "    head = insert(head, 10);\n",
        "    head = insert(head, 20);\n",
        "    head = insert(head, 30);\n",
        "    head = insert(head, 40);\n",
        "    head = insert(head, 50);\n",
        "    head = insert(head, 60);\n",
        "\n",
        "    struct node* head_next = head->next; // Declare head_next\n",
        "    head->next->next->next->next->next->next = head_next;\n",
        "\n",
        "    int hasCycle = detectCycle(head);\n",
        "\n",
        "    if (hasCycle) {\n",
        "        printf(\"The linked list contains a loop.\\n\");\n",
        "    } else {\n",
        "        printf(\"The linked list does not contain a loop.\\n\");\n",
        "    }\n",
        "\n",
        "\n",
        "\n",
        "    return 0;\n",
        "}"
      ],
      "metadata": {
        "colab": {
          "base_uri": "https://localhost:8080/"
        },
        "id": "r7s4OtzYYqxf",
        "outputId": "1960c76a-261b-480e-a113-32084dd3a4bb"
      },
      "execution_count": 7,
      "outputs": [
        {
          "output_type": "stream",
          "name": "stdout",
          "text": [
            "Writing scanCycle.c\n"
          ]
        }
      ]
    },
    {
      "cell_type": "code",
      "source": [
        "!gcc scanCycle.c -o scanCycle\n",
        "!chmod +x scanCycle\n",
        "!./scanCycle"
      ],
      "metadata": {
        "colab": {
          "base_uri": "https://localhost:8080/"
        },
        "id": "Y3WB8PBUaE_U",
        "outputId": "61656767-57a4-4c7e-e1ec-389be7359ac2"
      },
      "execution_count": 8,
      "outputs": [
        {
          "output_type": "stream",
          "name": "stdout",
          "text": [
            "The linked list contains a loop.\n"
          ]
        }
      ]
    },
    {
      "cell_type": "markdown",
      "source": [
        "5. Implement insertion operations in a singly linked list to insert a node:\n",
        "* At the beginning\n",
        "* At the end\n",
        "* At a given position"
      ],
      "metadata": {
        "id": "oyARiLdCaGqF"
      }
    },
    {
      "cell_type": "code",
      "source": [
        "%%writefile insertion.c\n",
        "#include <stdio.h>\n",
        "#include <stdlib.h>\n",
        "#include <stddef.h>\n",
        "\n",
        "struct node {\n",
        "    int data;\n",
        "    struct node *next;\n",
        "};\n",
        "\n",
        "struct node* createNode(int data) {\n",
        "    struct node* newNode = (struct node*)malloc(sizeof(struct node));\n",
        "    newNode->data = data;\n",
        "    newNode->next = NULL;\n",
        "    return newNode;\n",
        "}\n",
        "\n",
        "// Simple insert function that inserts at the end\n",
        "\n",
        "struct node* insert(struct node* head, int data) {\n",
        "    struct node* newNode = createNode(data);\n",
        "\n",
        "\n",
        "    if (head == NULL)\n",
        "        return newNode;\n",
        "\n",
        "    struct node* temp = head;\n",
        "    while (temp->next != NULL)\n",
        "        temp = temp->next;\n",
        "\n",
        "    temp->next = newNode;\n",
        "    return head;\n",
        "}\n",
        "\n",
        "\n",
        "// Function to print the linked list\n",
        "\n",
        "void printList(struct node* head) {\n",
        "    struct node* temp = head;\n",
        "    while (temp != NULL) {\n",
        "        printf(\"%d -> \", temp->data);\n",
        "        temp = temp->next;\n",
        "    }\n",
        "    printf(\"NULL\\n\");\n",
        "}\n",
        "\n",
        "struct node* insert_at_end(struct node* head, int data) {\n",
        "    struct node* newNode = createNode(data);\n",
        "    if (head == NULL) {\n",
        "        return newNode;\n",
        "    }\n",
        "    struct node* temp = head;\n",
        "    while (temp->next != NULL) {\n",
        "        temp = temp->next;\n",
        "    }\n",
        "    temp->next = newNode;\n",
        "    return head;\n",
        "}\n",
        "\n",
        "struct node* insert_at_beginning(struct node* head, int data) {\n",
        "    struct node* newNode = createNode(data);\n",
        "    newNode->next = head;\n",
        "    return newNode;\n",
        "}\n",
        "\n",
        "struct node* insert_at_position(struct node* head, int data, int position) {\n",
        "    if (position < 1) {\n",
        "        printf(\"Position should be 1 or greater\\n\");\n",
        "        return head;\n",
        "    }\n",
        "    if (position == 1) {\n",
        "        return insert_at_beginning(head, data);\n",
        "    }\n",
        "    struct node* newNode = createNode(data);\n",
        "    struct node* temp = head;\n",
        "    for (int i = 1; i < position - 1; i++) {\n",
        "        if (temp == NULL) {\n",
        "             printf(\"Invalid position\\n\");\n",
        "            return head;\n",
        "        }\n",
        "        temp = temp->next;\n",
        "\n",
        "    }\n",
        "     if (temp == NULL) {\n",
        "         printf(\"Invalid position\\n\");\n",
        "         return head;\n",
        "     }\n",
        "    newNode->next = temp->next;\n",
        "    temp->next = newNode;\n",
        "    return head;\n",
        "}\n",
        "\n",
        "int main() {\n",
        "    struct node* head = NULL;\n",
        "    int n;\n",
        "    printf(\"Enter the number of nodes: \");\n",
        "    scanf(\"%d\", &n);\n",
        "    for (int i = 0; i < n; i++) {\n",
        "        int data;\n",
        "        printf(\"Enter data for node %d: \", i + 1);\n",
        "        scanf(\"%d\", &data);\n",
        "        head = insert(head, data);\n",
        "    }\n",
        "    printf(\"Original Linked List: \");\n",
        "    printList(head);\n",
        "    int data, position;\n",
        "    printf(\"Enter data to insert at the end: \");\n",
        "    scanf(\"%d\", &data);\n",
        "    head = insert_at_end(head, data);\n",
        "    printf(\"\\nLinked List after inserting at the end: \");\n",
        "    printList(head);\n",
        "    printf(\"\\nEnter data to insert at the beginning: \");\n",
        "    scanf(\"%d\", &data);\n",
        "    head = insert_at_beginning(head, data);\n",
        "    printf(\"\\nLinked List after inserting at the beginning: \");\n",
        "    printList(head);\n",
        "    printf(\"\\nEnter data and position to insert: \");\n",
        "    scanf(\"%d %d\", &data, &position);\n",
        "    head = insert_at_position(head, data, position);\n",
        "    printf(\"\\nLinked List after inserting at position %d: \", position);\n",
        "    printList(head);\n",
        "    return 0;\n",
        "}"
      ],
      "metadata": {
        "colab": {
          "base_uri": "https://localhost:8080/"
        },
        "id": "OdU1XQgYalM2",
        "outputId": "1e75a0db-f77d-4ba1-9cfc-0c6b10b07a60"
      },
      "execution_count": 9,
      "outputs": [
        {
          "output_type": "stream",
          "name": "stdout",
          "text": [
            "Writing insertion.c\n"
          ]
        }
      ]
    },
    {
      "cell_type": "code",
      "source": [
        "!gcc insertion.c -o insertion\n",
        "!chmod +x insertion\n",
        "!./insertion"
      ],
      "metadata": {
        "colab": {
          "base_uri": "https://localhost:8080/"
        },
        "id": "lA9u39j5b7TF",
        "outputId": "4e5e8ab2-f5be-49d3-fcfa-f8e30a79c1d3"
      },
      "execution_count": 11,
      "outputs": [
        {
          "output_type": "stream",
          "name": "stdout",
          "text": [
            "Enter the number of nodes: 4\n",
            "Enter data for node 1: 1\n",
            "Enter data for node 2: 2\n",
            "Enter data for node 3: 3\n",
            "Enter data for node 4: 4\n",
            "Original Linked List: 1 -> 2 -> 3 -> 4 -> NULL\n",
            "Enter data to insert at the end: 5\n",
            "\n",
            "Linked List after inserting at the end: 1 -> 2 -> 3 -> 4 -> 5 -> NULL\n",
            "\n",
            "Enter data to insert at the beginning: 0\n",
            "\n",
            "Linked List after inserting at the beginning: 0 -> 1 -> 2 -> 3 -> 4 -> 5 -> NULL\n",
            "\n",
            "Enter data and position to insert: 100 3\n",
            "\n",
            "Linked List after inserting at position 3: 0 -> 1 -> 100 -> 2 -> 3 -> 4 -> 5 -> NULL\n"
          ]
        }
      ]
    },
    {
      "cell_type": "markdown",
      "source": [
        "6. Write a program to count and display the total number of nodes present in a linked list."
      ],
      "metadata": {
        "id": "xDTMt5ZgHrpr"
      }
    },
    {
      "cell_type": "code",
      "source": [
        "%%writefile count.c\n",
        "#include <stdio.h>\n",
        "#include <stdlib.h>\n",
        "\n",
        "struct Node {\n",
        "    int data;\n",
        "    struct Node* next;\n",
        "};\n",
        "\n",
        "void printList(struct Node* node) {\n",
        "    while (node != NULL) {\n",
        "        printf(\"%d -> \", node->data);\n",
        "        node = node->next;\n",
        "    }\n",
        "    printf(\"NULL\\n\");\n",
        "}\n",
        "\n",
        "void append(struct Node** head_ref, int new_data) {\n",
        "    struct Node* new_node = (struct Node*)malloc(sizeof(struct Node));\n",
        "    struct Node* last = *head_ref;\n",
        "    new_node->data = new_data;\n",
        "    new_node->next = NULL;\n",
        "    if (*head_ref == NULL) {\n",
        "        *head_ref = new_node;\n",
        "        return;\n",
        "    }\n",
        "    while (last->next != NULL) {\n",
        "        last = last->next;\n",
        "    }\n",
        "    last->next = new_node;\n",
        "}\n",
        "\n",
        "void countNodes(struct Node* head) {\n",
        "    int count = 0;\n",
        "    struct Node* current = head;\n",
        "    while (current != NULL) {\n",
        "        count++;\n",
        "        current = current->next;\n",
        "    }\n",
        "    printf(\"Total number of nodes: %d\\n\", count);\n",
        "}\n",
        "\n",
        "int main() {\n",
        "    struct Node* head = NULL;\n",
        "    append(&head, 100);\n",
        "    append(&head, 200);\n",
        "    append(&head, 300);\n",
        "    append(&head, 400);\n",
        "\n",
        "    printf(\"Current list: \");\n",
        "    printList(head);\n",
        "\n",
        "    countNodes(head);\n",
        "\n",
        "    return 0;\n",
        "}"
      ],
      "metadata": {
        "id": "UXVh4C_xb9wM",
        "colab": {
          "base_uri": "https://localhost:8080/"
        },
        "outputId": "b6f62b6d-fd49-4df0-aa5f-15b061e7200c"
      },
      "execution_count": 12,
      "outputs": [
        {
          "output_type": "stream",
          "name": "stdout",
          "text": [
            "Writing count.c\n"
          ]
        }
      ]
    },
    {
      "cell_type": "code",
      "source": [
        "!gcc count.c -o count\n",
        "!chmod +x count\n",
        "!./count"
      ],
      "metadata": {
        "colab": {
          "base_uri": "https://localhost:8080/"
        },
        "id": "6kJYsAZfH-HQ",
        "outputId": "e12efa38-3201-4241-bbf3-fff475747c0b"
      },
      "execution_count": 13,
      "outputs": [
        {
          "output_type": "stream",
          "name": "stdout",
          "text": [
            "Current list: 100 -> 200 -> 300 -> 400 -> NULL\n",
            "Total number of nodes: 4\n"
          ]
        }
      ]
    },
    {
      "cell_type": "markdown",
      "source": [
        "7. Write a program to merge two sorted linked lists into one sorted linked list."
      ],
      "metadata": {
        "id": "kvipB_kBIGS8"
      }
    },
    {
      "cell_type": "code",
      "source": [
        "%%writefile merge.c\n",
        "\n",
        "#include <stdio.h>\n",
        "#include <stdlib.h>\n",
        "\n",
        "struct Node {\n",
        "    int data;\n",
        "    struct Node* next;\n",
        "};\n",
        "\n",
        "void printList(struct Node* node) {\n",
        "    while (node != NULL) {\n",
        "        printf(\"%d -> \", node->data);\n",
        "        node = node->next;\n",
        "    }\n",
        "    printf(\"NULL\\n\");\n",
        "}\n",
        "\n",
        "void append(struct Node** head_ref, int new_data) {\n",
        "    struct Node* new_node = (struct Node*)malloc(sizeof(struct Node));\n",
        "    struct Node* last = *head_ref;\n",
        "    new_node->data = new_data;\n",
        "    new_node->next = NULL;\n",
        "    if (*head_ref == NULL) {\n",
        "        *head_ref = new_node;\n",
        "        return;\n",
        "    }\n",
        "    while (last->next != NULL) {\n",
        "        last = last->next;\n",
        "    }\n",
        "    last->next = new_node;\n",
        "}\n",
        "\n",
        "// Function to merge two sorted lists\n",
        "struct Node* mergeSortedLists(struct Node* l1, struct Node* l2) {\n",
        "    // Create a dummy node to act as the start of the new list\n",
        "    struct Node dummy;\n",
        "    struct Node* tail = &dummy;\n",
        "    dummy.next = NULL;\n",
        "\n",
        "    while (l1 != NULL && l2 != NULL) {\n",
        "        if (l1->data <= l2->data) {\n",
        "            tail->next = l1;\n",
        "            l1 = l1->next;\n",
        "        } else {\n",
        "            tail->next = l2;\n",
        "            l2 = l2->next;\n",
        "        }\n",
        "        tail = tail->next;\n",
        "    }\n",
        "\n",
        "    // Attach the remaining part of the non-empty list\n",
        "    if (l1 != NULL) {\n",
        "        tail->next = l1;\n",
        "    } else {\n",
        "        tail->next = l2;\n",
        "    }\n",
        "\n",
        "    return dummy.next;\n",
        "}\n",
        "\n",
        "int main() {\n",
        "    struct Node* list1 = NULL;\n",
        "    append(&list1, 5);\n",
        "    append(&list1, 10);\n",
        "    append(&list1, 15);\n",
        "\n",
        "    struct Node* list2 = NULL;\n",
        "    append(&list2, 2);\n",
        "    append(&list2, 3);\n",
        "    append(&list2, 20);\n",
        "\n",
        "    printf(\"List 1: \");\n",
        "    printList(list1);\n",
        "    printf(\"List 2: \");\n",
        "    printList(list2);\n",
        "\n",
        "    struct Node* merged_head = mergeSortedLists(list1, list2);\n",
        "\n",
        "    printf(\"Merged Sorted List: \");\n",
        "    printList(merged_head);\n",
        "\n",
        "    return 0;\n",
        "}"
      ],
      "metadata": {
        "colab": {
          "base_uri": "https://localhost:8080/"
        },
        "id": "70Cs_KsZIdJr",
        "outputId": "f7be51b7-e31c-49a7-d8c4-f74537ea18dd"
      },
      "execution_count": 14,
      "outputs": [
        {
          "output_type": "stream",
          "name": "stdout",
          "text": [
            "Writing merge.c\n"
          ]
        }
      ]
    },
    {
      "cell_type": "code",
      "source": [
        "!gcc merge.c -o merge\n",
        "!chmod +x merge\n",
        "!./merge"
      ],
      "metadata": {
        "colab": {
          "base_uri": "https://localhost:8080/"
        },
        "id": "iu_DO-lzImHl",
        "outputId": "cfe3fa8b-8b35-49c6-8eb3-c1f8649a58f2"
      },
      "execution_count": 15,
      "outputs": [
        {
          "output_type": "stream",
          "name": "stdout",
          "text": [
            "List 1: 5 -> 10 -> 15 -> NULL\n",
            "List 2: 2 -> 3 -> 20 -> NULL\n",
            "Merged Sorted List: 2 -> 3 -> 5 -> 10 -> 15 -> 20 -> NULL\n"
          ]
        }
      ]
    },
    {
      "cell_type": "markdown",
      "source": [
        "8. Delete nodes from a singly linked list from:\n",
        "* The beginning\n",
        "* The end\n",
        "* A given position\n"
      ],
      "metadata": {
        "id": "g88v48lbIqId"
      }
    },
    {
      "cell_type": "code",
      "source": [
        "%%writefile delete.c\n",
        "\n",
        "#include <stdio.h>\n",
        "#include <stdlib.h>\n",
        "\n",
        "struct Node {\n",
        "    int data;\n",
        "    struct Node* next;\n",
        "};\n",
        "\n",
        "void printList(struct Node* node) {\n",
        "    while (node != NULL) {\n",
        "        printf(\"%d -> \", node->data);\n",
        "        node = node->next;\n",
        "    }\n",
        "    printf(\"NULL\\n\");\n",
        "}\n",
        "\n",
        "void append(struct Node** head_ref, int new_data) {\n",
        "    struct Node* new_node = (struct Node*)malloc(sizeof(struct Node));\n",
        "    struct Node* last = *head_ref;\n",
        "    new_node->data = new_data;\n",
        "    new_node->next = NULL;\n",
        "    if (*head_ref == NULL) {\n",
        "        *head_ref = new_node;\n",
        "        return;\n",
        "    }\n",
        "    while (last->next != NULL) {\n",
        "        last = last->next;\n",
        "    }\n",
        "    last->next = new_node;\n",
        "}\n",
        "\n",
        "void deleteFromBeginning(struct Node** head_ref) {\n",
        "    if (*head_ref == NULL) return;\n",
        "    struct Node* temp = *head_ref;\n",
        "    *head_ref = (*head_ref)->next;\n",
        "    free(temp);\n",
        "}\n",
        "\n",
        "void deleteFromEnd(struct Node** head_ref) {\n",
        "    if (*head_ref == NULL) return; // List is empty\n",
        "\n",
        "    if ((*head_ref)->next == NULL) {\n",
        "        free(*head_ref);\n",
        "        *head_ref = NULL;\n",
        "        return;\n",
        "    }\n",
        "\n",
        "    struct Node* second_last = *head_ref;\n",
        "    while (second_last->next->next != NULL) {\n",
        "        second_last = second_last->next;\n",
        "    }\n",
        "\n",
        "    free(second_last->next); // Free the last node\n",
        "    second_last->next = NULL;  // Set new end\n",
        "}\n",
        "\n",
        "void deleteFromPosition(struct Node** head_ref, int position) {\n",
        "    if (*head_ref == NULL) return; // List is empty\n",
        "\n",
        "    struct Node* temp = *head_ref;\n",
        "\n",
        "    // If head needs to be removed\n",
        "    if (position == 1) {\n",
        "        *head_ref = temp->next;\n",
        "        free(temp);\n",
        "        return;\n",
        "    }\n",
        "\n",
        "    // Find the node just before the one to be deleted\n",
        "    for (int i = 1; temp != NULL && i < position - 1; i++) {\n",
        "        temp = temp->next;\n",
        "    }\n",
        "\n",
        "    // If position is out of bounds\n",
        "    if (temp == NULL || temp->next == NULL) return;\n",
        "\n",
        "    struct Node* node_to_delete = temp->next;\n",
        "    temp->next = node_to_delete->next; // Unlink the node\n",
        "    free(node_to_delete);            // Free memory\n",
        "}\n",
        "\n",
        "int main() {\n",
        "    struct Node* head = NULL;\n",
        "    append(&head, 1);\n",
        "    append(&head, 2);\n",
        "    append(&head, 3);\n",
        "    append(&head, 4);\n",
        "    append(&head, 5);\n",
        "\n",
        "    printf(\"Original List:           \");\n",
        "    printList(head);\n",
        "\n",
        "    deleteFromBeginning(&head);\n",
        "    printf(\"After deleting beginning:  \");\n",
        "    printList(head);\n",
        "\n",
        "    deleteFromEnd(&head);\n",
        "    printf(\"After deleting end:        \");\n",
        "    printList(head);\n",
        "\n",
        "    deleteFromPosition(&head, 2); // Deleting '3'\n",
        "    printf(\"After deleting position 2: \");\n",
        "    printList(head);\n",
        "\n",
        "    return 0;\n",
        "}"
      ],
      "metadata": {
        "colab": {
          "base_uri": "https://localhost:8080/"
        },
        "id": "1Q7ZOBPxI9kV",
        "outputId": "94cd327c-1994-4d8c-b05c-e529d56012b2"
      },
      "execution_count": 16,
      "outputs": [
        {
          "output_type": "stream",
          "name": "stdout",
          "text": [
            "Writing delete.c\n"
          ]
        }
      ]
    },
    {
      "cell_type": "code",
      "source": [
        "!gcc delete.c -o delete\n",
        "!chmod +x delete\n",
        "!./delete"
      ],
      "metadata": {
        "colab": {
          "base_uri": "https://localhost:8080/"
        },
        "id": "_-DHyJItJFXQ",
        "outputId": "51d36403-6972-417d-8ba9-f52968f28586"
      },
      "execution_count": 17,
      "outputs": [
        {
          "output_type": "stream",
          "name": "stdout",
          "text": [
            "Original List:           1 -> 2 -> 3 -> 4 -> 5 -> NULL\n",
            "After deleting beginning:  2 -> 3 -> 4 -> 5 -> NULL\n",
            "After deleting end:        2 -> 3 -> 4 -> NULL\n",
            "After deleting position 2: 2 -> 4 -> NULL\n"
          ]
        }
      ]
    },
    {
      "cell_type": "markdown",
      "source": [
        "9. Find and print the middle element of a linked list using the two-pointer technique."
      ],
      "metadata": {
        "id": "6ucz7HP3JHBn"
      }
    },
    {
      "cell_type": "code",
      "source": [
        "%%writefile point.c\n",
        "#include <stdio.h>\n",
        "#include <stdlib.h>\n",
        "#include <stddef.h>\n",
        "\n",
        "struct Node {\n",
        "    int data;\n",
        "    struct Node* next;\n",
        "};\n",
        "\n",
        "void printList(struct Node* node) {\n",
        "    while (node != NULL) {\n",
        "        printf(\"%d -> \", node->data);\n",
        "        node = node->next;\n",
        "    }\n",
        "    printf(\"NULL\\n\");\n",
        "}\n",
        "\n",
        "void append(struct Node** head_ref, int new_data) {\n",
        "    struct Node* new_node = (struct Node*)malloc(sizeof(struct Node));\n",
        "    struct Node* last = *head_ref;\n",
        "    new_node->data = new_data;\n",
        "    new_node->next = NULL;\n",
        "    if (*head_ref == NULL) {\n",
        "        *head_ref = new_node;\n",
        "        return;\n",
        "    }\n",
        "    while (last->next != NULL) {\n",
        "        last = last->next;\n",
        "    }\n",
        "    last->next = new_node;\n",
        "}\n",
        "\n",
        "// Function to find the middle element\n",
        "void findMiddleElement(struct Node* head) {\n",
        "    struct Node *slow_ptr = head;\n",
        "    struct Node *fast_ptr = head;\n",
        "\n",
        "    if (head != NULL) {\n",
        "        while (fast_ptr != NULL && fast_ptr->next != NULL) {\n",
        "            fast_ptr = fast_ptr->next->next;\n",
        "            slow_ptr = slow_ptr->next;\n",
        "        }\n",
        "        printf(\"The middle element is: %d\\n\", slow_ptr->data);\n",
        "    } else {\n",
        "        printf(\"The list is empty.\\n\");\n",
        "    }\n",
        "}\n",
        "\n",
        "int main() {\n",
        "\n",
        "    // Test Case 1: Odd number of nodes\n",
        "\n",
        "    struct Node* head_odd = NULL;\n",
        "    append(&head_odd, 1);\n",
        "    append(&head_odd, 2);\n",
        "    append(&head_odd, 3);\n",
        "    append(&head_odd, 4);\n",
        "    append(&head_odd, 5);\n",
        "    printf(\"List with odd nodes: \");\n",
        "    printList(head_odd);\n",
        "    findMiddleElement(head_odd);\n",
        "\n",
        "    printf(\"\\n\");\n",
        "\n",
        "    // Test Case 2: Even number of nodes\n",
        "    struct Node* head_even = NULL;\n",
        "    append(&head_even, 1);\n",
        "    append(&head_even, 2);\n",
        "    append(&head_even, 3);\n",
        "    append(&head_even, 4);\n",
        "    append(&head_even, 5);\n",
        "    append(&head_even, 6);\n",
        "    printf(\"List with even nodes: \");\n",
        "    printList(head_even);\n",
        "    findMiddleElement(head_even);\n",
        "\n",
        "    return 0;\n",
        "}"
      ],
      "metadata": {
        "colab": {
          "base_uri": "https://localhost:8080/"
        },
        "id": "TSwO74-jJUWQ",
        "outputId": "fc3c1339-aa4f-4427-8aa4-b4893f7cc528"
      },
      "execution_count": 18,
      "outputs": [
        {
          "output_type": "stream",
          "name": "stdout",
          "text": [
            "Writing point.c\n"
          ]
        }
      ]
    },
    {
      "cell_type": "code",
      "source": [
        "!gcc point.c -o point\n",
        "!chmod +x point\n",
        "!./point"
      ],
      "metadata": {
        "colab": {
          "base_uri": "https://localhost:8080/"
        },
        "id": "pAzlbuAyJZw7",
        "outputId": "6728dbc8-b02f-4472-bb38-d3893794abd9"
      },
      "execution_count": 19,
      "outputs": [
        {
          "output_type": "stream",
          "name": "stdout",
          "text": [
            "List with odd nodes: 1 -> 2 -> 3 -> 4 -> 5 -> NULL\n",
            "The middle element is: 3\n",
            "\n",
            "List with even nodes: 1 -> 2 -> 3 -> 4 -> 5 -> 6 -> NULL\n",
            "The middle element is: 4\n"
          ]
        }
      ]
    },
    {
      "cell_type": "markdown",
      "source": [
        "10. Remove duplicate elements from a sorted linked list so that each element appears only once."
      ],
      "metadata": {
        "id": "hSDjGw7oJdAN"
      }
    },
    {
      "cell_type": "code",
      "source": [
        "%%writefile sort.c\n",
        "#include <stdio.h>\n",
        "#include <stdlib.h>\n",
        "#include <stddef.h>\n",
        "\n",
        "struct Node {\n",
        "    int data;\n",
        "    struct Node* next;\n",
        "};\n",
        "\n",
        "void printList(struct Node* node) {\n",
        "    while (node != NULL) {\n",
        "        printf(\"%d -> \", node->data);\n",
        "        node = node->next;\n",
        "    }\n",
        "    printf(\"NULL\\n\");\n",
        "}\n",
        "\n",
        "void append(struct Node** head_ref, int new_data) {\n",
        "    struct Node* new_node = (struct Node*)malloc(sizeof(struct Node));\n",
        "    struct Node* last = *head_ref;\n",
        "    new_node->data = new_data;\n",
        "    new_node->next = NULL;\n",
        "    if (*head_ref == NULL) {\n",
        "        *head_ref = new_node;\n",
        "        return;\n",
        "    }\n",
        "    while (last->next != NULL) {\n",
        "        last = last->next;\n",
        "    }\n",
        "    last->next = new_node;\n",
        "}\n",
        "\n",
        "\n",
        "// Function to remove duplicates from a sorted list\n",
        "void removeDuplicates(struct Node* head) {\n",
        "    struct Node* current = head;\n",
        "\n",
        "    if (current == NULL) return;\n",
        "\n",
        "    while (current->next != NULL) {\n",
        "\n",
        "        // Compare current node's data with the next node's data\n",
        "        if (current->data == current->next->data) {\n",
        "            struct Node* node_to_delete = current->next;\n",
        "            current->next = current->next->next;\n",
        "            free(node_to_delete);\n",
        "        } else {\n",
        "\n",
        "            // Only move to the next node if no duplicate was found\n",
        "            current = current->next;\n",
        "        }\n",
        "    }\n",
        "}\n",
        "\n",
        "int main() {\n",
        "    struct Node* head = NULL;\n",
        "\n",
        "    // Create a sorted list with duplicates\n",
        "    append(&head, 11);\n",
        "    append(&head, 11);\n",
        "    append(&head, 21);\n",
        "    append(&head, 43);\n",
        "    append(&head, 43);\n",
        "    append(&head, 60);\n",
        "\n",
        "    printf(\"Original list with duplicates: \");\n",
        "    printList(head);\n",
        "\n",
        "    removeDuplicates(head);\n",
        "\n",
        "    printf(\"List after removing duplicates: \");\n",
        "    printList(head);\n",
        "\n",
        "    return 0;\n",
        "}"
      ],
      "metadata": {
        "colab": {
          "base_uri": "https://localhost:8080/"
        },
        "id": "KWKzTRewJo-_",
        "outputId": "3f8a50fc-bca6-4352-daee-28f7a6171260"
      },
      "execution_count": 20,
      "outputs": [
        {
          "output_type": "stream",
          "name": "stdout",
          "text": [
            "Writing sort.c\n"
          ]
        }
      ]
    },
    {
      "cell_type": "code",
      "source": [
        "!gcc sort.c -o sort\n",
        "!chmod +x sort\n",
        "!./sort"
      ],
      "metadata": {
        "colab": {
          "base_uri": "https://localhost:8080/"
        },
        "id": "5mZMPiITJw5i",
        "outputId": "42700952-4c49-4b10-c0e1-a095bb32a21b"
      },
      "execution_count": 21,
      "outputs": [
        {
          "output_type": "stream",
          "name": "stdout",
          "text": [
            "Original list with duplicates: 11 -> 11 -> 21 -> 43 -> 43 -> 60 -> NULL\n",
            "List after removing duplicates: 11 -> 21 -> 43 -> 60 -> NULL\n"
          ]
        }
      ]
    }
  ]
}
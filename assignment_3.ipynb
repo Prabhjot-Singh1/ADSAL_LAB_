{
  "nbformat": 4,
  "nbformat_minor": 0,
  "metadata": {
    "colab": {
      "provenance": [],
      "include_colab_link": true
    },
    "kernelspec": {
      "name": "python3",
      "display_name": "Python 3"
    },
    "language_info": {
      "name": "python"
    }
  },
  "cells": [
    {
      "cell_type": "markdown",
      "metadata": {
        "id": "view-in-github",
        "colab_type": "text"
      },
      "source": [
        "<a href=\"https://colab.research.google.com/github/Prabhjot-Singh1/ADSAL_LAB_/blob/main/assignment_3.ipynb\" target=\"_parent\"><img src=\"https://colab.research.google.com/assets/colab-badge.svg\" alt=\"Open In Colab\"/></a>"
      ]
    },
    {
      "cell_type": "markdown",
      "source": [
        "***LAB - 3***"
      ],
      "metadata": {
        "id": "y8UUEWJKM51R"
      }
    },
    {
      "cell_type": "code",
      "source": [
        "!apt-get install -y gcc"
      ],
      "metadata": {
        "colab": {
          "base_uri": "https://localhost:8080/"
        },
        "id": "ui26DJ7A6RPK",
        "outputId": "82ab883e-0ed5-4187-ac17-bda49d629ad4"
      },
      "execution_count": null,
      "outputs": [
        {
          "output_type": "stream",
          "name": "stdout",
          "text": [
            "Reading package lists... Done\n",
            "Building dependency tree... Done\n",
            "Reading state information... Done\n",
            "gcc is already the newest version (4:11.2.0-1ubuntu1).\n",
            "gcc set to manually installed.\n",
            "0 upgraded, 0 newly installed, 0 to remove and 35 not upgraded.\n"
          ]
        }
      ]
    },
    {
      "cell_type": "markdown",
      "source": [
        "Q1. Write a program to find the second largest element in an integer array without sorting the\n",
        "array.\n",
        "Consider the array may contain duplicate values."
      ],
      "metadata": {
        "id": "R0jrwffANc_K"
      }
    },
    {
      "cell_type": "code",
      "source": [
        "%%writefile 1.c\n",
        "#include<stdio.h>\n",
        "#include<limits.h>\n",
        "\n",
        "int main()\n",
        "{\n",
        "    int arr[]={23,2,3,67,54,88,55};\n",
        "    int n=sizeof(arr)/sizeof(arr[0]);\n",
        "\n",
        "    int s=-1;\n",
        "    int l=0;\n",
        "    for(int i=0;i<n;i++)\n",
        "    {\n",
        "        if(arr[i]>arr[l])\n",
        "        {\n",
        "            s=l;\n",
        "            l=i;\n",
        "        }\n",
        "        else{\n",
        "            if(s==-1)\n",
        "            {\n",
        "                s=i;\n",
        "            }\n",
        "            else if (arr[i]>arr[s])\n",
        "            {\n",
        "                s=i;\n",
        "            }\n",
        "        }\n",
        "\n",
        "    }\n",
        "\n",
        "    printf(\"The second largest element of the array is %d\",arr[s]);\n",
        "\n",
        "\n",
        "    return(0);\n",
        "}\n",
        "\n"
      ],
      "metadata": {
        "id": "fsfG3rYKNklY",
        "colab": {
          "base_uri": "https://localhost:8080/"
        },
        "outputId": "7778bfbf-c490-42fe-954d-5dc7fd1c87db"
      },
      "execution_count": 2,
      "outputs": [
        {
          "output_type": "stream",
          "name": "stdout",
          "text": [
            "Writing 1.c\n"
          ]
        }
      ]
    },
    {
      "cell_type": "code",
      "source": [
        "!gcc 1.c -o 1\n",
        "!chmod +x 1\n",
        "!./1"
      ],
      "metadata": {
        "colab": {
          "base_uri": "https://localhost:8080/"
        },
        "id": "qBLWZtiR53RZ",
        "outputId": "2eb49adc-c2b3-4cd8-e3ff-d6d2863291b4"
      },
      "execution_count": 3,
      "outputs": [
        {
          "output_type": "stream",
          "name": "stdout",
          "text": [
            "The second largest element of the array is 67"
          ]
        }
      ]
    },
    {
      "cell_type": "markdown",
      "source": [
        "Q2. Given an array of integers, write a program to check if there exists a contiguous subarray\n",
        "whose sum equals a given value S. If it exists, print the starting and ending indices of such\n",
        "subarray."
      ],
      "metadata": {
        "id": "X0LHimmG66E0"
      }
    },
    {
      "cell_type": "code",
      "source": [
        "%%writefile 2.c\n",
        "#include <stdio.h>\n",
        "\n",
        "int main() {\n",
        "    int arr[20] = {55, 12, 88, 3, 99, 45, 76, 23, 1, 67, 34, 91, 8, 50, 77, 19, 40, 82, 6, 29};\n",
        "    int n = 20;\n",
        "\n",
        "\n",
        "    int S = arr[7] + arr[8] + arr[9] + arr[10] + arr[11];\n",
        "\n",
        "    int start = 0, sum = 0, found = 0;\n",
        "\n",
        "    for (int end = 0; end < n; end++) {\n",
        "        sum += arr[end];\n",
        "\n",
        "        while (sum > S && start <= end) {\n",
        "            sum -= arr[start];\n",
        "            start++;\n",
        "        }\n",
        "\n",
        "        if (sum == S) {\n",
        "            printf(\"Subarray found between indices %d and %d: \", start, end);\n",
        "            for (int k = start; k <= end; k++) {\n",
        "                printf(\"%d \", arr[k]);\n",
        "            }\n",
        "            printf(\"\\n\");\n",
        "            found = 1;\n",
        "            break;\n",
        "        }\n",
        "    }\n",
        "\n",
        "    if (!found) {\n",
        "        printf(\"No subarray found with the given sum.\\n\");\n",
        "    }\n",
        "\n",
        "    return 0;\n",
        "}\n"
      ],
      "metadata": {
        "colab": {
          "base_uri": "https://localhost:8080/"
        },
        "id": "NYsPyGxT7L95",
        "outputId": "3c7b97e2-46f2-4b9a-a848-66eab2af3ff8"
      },
      "execution_count": null,
      "outputs": [
        {
          "output_type": "stream",
          "name": "stdout",
          "text": [
            "Overwriting 2.c\n"
          ]
        }
      ]
    },
    {
      "cell_type": "code",
      "source": [
        "!gcc 2.c -o 2\n",
        "!./2"
      ],
      "metadata": {
        "colab": {
          "base_uri": "https://localhost:8080/"
        },
        "id": "UsAuUT5e84f6",
        "outputId": "cec82037-e87a-4de3-b30c-78f606968887"
      },
      "execution_count": null,
      "outputs": [
        {
          "output_type": "stream",
          "name": "stdout",
          "text": [
            "Subarray found between indices 7 and 11: 23 1 67 34 91 \n"
          ]
        }
      ]
    },
    {
      "cell_type": "markdown",
      "source": [
        "Q3. Write a function to rotate an array of n elements to the right by k positions.\n",
        "* For example,\n",
        "for array [1, 2, 3, 4, 5] and k = 2, the rotated array should be [4, 5, 1, 2, 3].\n",
        "* Try to do in O(n)\n",
        "time complexity"
      ],
      "metadata": {
        "id": "gvHAJ-fNDALx"
      }
    },
    {
      "cell_type": "code",
      "source": [
        "%%writefile 3.c\n",
        "#include <stdio.h>\n",
        "#include <stdlib.h> // Required for malloc\n",
        "\n",
        "void rotateArray(int arr[], int n, int k) {\n",
        "    int* temp = (int*)malloc(n * sizeof(int));\n",
        "\n",
        "    for (int i = 0; i < n; i++) {\n",
        "        temp[(i + k) % n] = arr[i];\n",
        "    }\n",
        "\n",
        "    for (int i = 0; i < n; i++) {\n",
        "        arr[i] = temp[i];\n",
        "    }\n",
        "\n",
        "    free(temp);\n",
        "}\n",
        "\n",
        "int main(){\n",
        "  int arr[] = {1,2,3,4,5,6,7,8,9,10};\n",
        "  int n = 10;\n",
        "  int k = 3;\n",
        "\n",
        "  printf(\"Original array: \");\n",
        "  for (int i = 0; i < n; i++) {\n",
        "    printf(\"%d \", arr[i]);\n",
        "  }\n",
        "  printf(\"\\n\");\n",
        "\n",
        "  rotateArray(arr, n, k);\n",
        "\n",
        "  printf(\"Rotated array (k = %d) : \",k);\n",
        "  for (int i = 0; i < n; i++) {\n",
        "    printf(\"%d \", arr[i]);\n",
        "  }\n",
        "  printf(\"\\n\");\n",
        "\n",
        "  return 0;\n",
        "}"
      ],
      "metadata": {
        "colab": {
          "base_uri": "https://localhost:8080/"
        },
        "id": "HeNJAhdxDM2G",
        "outputId": "5148ef8e-f030-4ede-f703-ab128ae17b0f"
      },
      "execution_count": 6,
      "outputs": [
        {
          "output_type": "stream",
          "name": "stdout",
          "text": [
            "Overwriting 3.c\n"
          ]
        }
      ]
    },
    {
      "cell_type": "code",
      "source": [
        "!gcc 3.c -o 3\n",
        "!chmod +x 3\n",
        "!./3"
      ],
      "metadata": {
        "colab": {
          "base_uri": "https://localhost:8080/"
        },
        "id": "oRvVwS7YDzTV",
        "outputId": "d4e5a0a2-a032-4f8a-8a2a-41248eaffe22"
      },
      "execution_count": 7,
      "outputs": [
        {
          "output_type": "stream",
          "name": "stdout",
          "text": [
            "Original array: 1 2 3 4 5 6 7 8 9 10 \n",
            "Rotated array (k = 3) : 8 9 10 1 2 3 4 5 6 7 \n"
          ]
        }
      ]
    },
    {
      "cell_type": "markdown",
      "source": [
        "Q4. Define a structure Student with fields name, rollNumber, and marks. Write a program to\n",
        "input details of n students and then display the details of the student with the highest marks."
      ],
      "metadata": {
        "id": "lzrtMcdfFOAY"
      }
    },
    {
      "cell_type": "code",
      "source": [
        "%%writefile 4.c\n",
        "#include<stdio.h>\n",
        "\n",
        "struct Student\n",
        "{\n",
        "    char name[100];\n",
        "    int rollnumber;\n",
        "    float marks;\n",
        "\n",
        "};\n",
        "\n",
        "\n",
        "int main()\n",
        "{\n",
        "    printf(\"Enter the number of studendts you want to enter: \");\n",
        "    int n;\n",
        "    scanf(\"%d\",&n);\n",
        "    struct Student arr[n];\n",
        "    for(int i=0;i<n;i++)\n",
        "    {\n",
        "        getchar();\n",
        "        printf(\"Enter the name of student %d: \",i+1);\n",
        "        fgets(arr[i].name,100,stdin);\n",
        "        printf(\"Enter the roll number of student %d: \",i+1);\n",
        "        scanf(\"%d\",&arr[i].rollnumber);\n",
        "        printf(\"Enter the marks of student %d: \",i+1);\n",
        "        scanf(\"%f\",&arr[i].marks);\n",
        "        printf(\"\\n\");\n",
        "\n",
        "    }\n",
        "\n",
        "    int max_marks_index=0;\n",
        "    for(int i=0;i<n;i++)\n",
        "    {\n",
        "        if(arr[i].marks>arr[max_marks_index].marks)\n",
        "        {\n",
        "            max_marks_index=i;\n",
        "        }\n",
        "    }\n",
        "\n",
        "    printf(\"The details of the student with highest marks are:\\n\");\n",
        "    printf(\"Name: %s\",arr[max_marks_index].name);\n",
        "    printf(\"Roll Number: %d\\n\",arr[max_marks_index].rollnumber);\n",
        "    printf(\"Marks: %.2f\\n\",arr[max_marks_index].marks);\n",
        "\n",
        "    return 0;\n",
        "}"
      ],
      "metadata": {
        "colab": {
          "base_uri": "https://localhost:8080/"
        },
        "id": "uniQLRu3FVhN",
        "outputId": "71bd78c6-41b9-4107-a31b-ed536e41be3d"
      },
      "execution_count": 8,
      "outputs": [
        {
          "output_type": "stream",
          "name": "stdout",
          "text": [
            "Writing 4.c\n"
          ]
        }
      ]
    },
    {
      "cell_type": "code",
      "source": [
        "!gcc 4.c -o 4\n",
        "!chmod +x 4\n",
        "!./4"
      ],
      "metadata": {
        "colab": {
          "base_uri": "https://localhost:8080/"
        },
        "id": "eDY81LGZGKpI",
        "outputId": "5a928c34-9b63-4038-e7e9-ed2d4f8be735"
      },
      "execution_count": 10,
      "outputs": [
        {
          "output_type": "stream",
          "name": "stdout",
          "text": [
            "Enter the number of studendts you want to enter: 2\n",
            "Enter the name of student 1: Prabhjot\n",
            "Enter the roll number of student 1: 1\n",
            "Enter the marks of student 1: 80\n",
            "\n",
            "Enter the name of student 2: Veeky\n",
            "Enter the roll number of student 2: 2\n",
            "Enter the marks of student 2: 60\n",
            "\n",
            "The details of the student with highest marks are:\n",
            "Name: Prabhjot\n",
            "Roll Number: 1\n",
            "Marks: 80.00\n"
          ]
        }
      ]
    },
    {
      "cell_type": "markdown",
      "source": [
        "Q5. Define a structure Employee with fields id, name, salary, and department. Write a program\n",
        "to increase the salary of all employees in the \"IT\" department by 10%."
      ],
      "metadata": {
        "id": "Ucuv9k_rGpzG"
      }
    },
    {
      "cell_type": "code",
      "source": [
        "%%writefile 5.c\n",
        "#include <stdio.h>\n",
        "#include <string.h>\n",
        "\n",
        "struct Employee{\n",
        "  int id;\n",
        "  char name[20];\n",
        "  float salary;\n",
        "  char department[20];\n",
        "};\n",
        "\n",
        "int main(){\n",
        "  int n;\n",
        "  printf(\"Enter the number of employees: \");\n",
        "  scanf(\"%d\",&n);\n",
        "  struct Employee e[n];\n",
        "  for(int i = 0; i < n; i++){\n",
        "    printf(\"Enter the id: \");\n",
        "    scanf(\"%d\",&e[i].id);\n",
        "    printf(\"Enter the name: \");\n",
        "    scanf(\"%s\",e[i].name);\n",
        "    printf(\"Enter the salary: \");\n",
        "    scanf(\"%f\",&e[i].salary);\n",
        "    printf(\"Enter the Department Name: \");\n",
        "    scanf(\"%s\",e[i].department);\n",
        "    printf(\"**************************************************\");\n",
        "    printf(\"\\n\");\n",
        "  }\n",
        "  for(int i = 0; i < n; i++){\n",
        "    if(strcmp(e[i].department,\"IT\") == 0){\n",
        "      e[i].salary = e[i].salary + (e[i].salary * 0.1);\n",
        "    }\n",
        "  }\n",
        "  printf(\"**************************************************\");\n",
        "  printf(\"\\n\");\n",
        "  printf(\"Increased Employee Salaries are as follows:\\n\");\n",
        "  for(int i = 0; i < n; i++){\n",
        "    printf(\"ID: %d\\n\",e[i].id);\n",
        "    printf(\"Name: %s\\n\",e[i].name);\n",
        "    printf(\"Salary: %.2f\\n\",e[i].salary);\n",
        "    printf(\"Department: %s\\n\",e[i].department);\n",
        "    printf(\"**************************************************\");\n",
        "    printf(\"\\n\");\n",
        "  }\n",
        "  return 0;\n",
        "}"
      ],
      "metadata": {
        "colab": {
          "base_uri": "https://localhost:8080/"
        },
        "id": "QKv1wWG9Gx_A",
        "outputId": "31cd568c-1af2-46fd-ccd0-258842cf2081"
      },
      "execution_count": null,
      "outputs": [
        {
          "output_type": "stream",
          "name": "stdout",
          "text": [
            "Overwriting 5.c\n"
          ]
        }
      ]
    },
    {
      "cell_type": "code",
      "source": [
        "!gcc 5.c -o 5\n",
        "!chmod +x 5\n",
        "!./5"
      ],
      "metadata": {
        "colab": {
          "base_uri": "https://localhost:8080/"
        },
        "id": "C5nMk_OkHweg",
        "outputId": "b26f2494-62dd-40de-d7b3-ccce1cc4ab13"
      },
      "execution_count": null,
      "outputs": [
        {
          "output_type": "stream",
          "name": "stdout",
          "text": [
            "Enter the number of employees: 4\n",
            "Enter the id: 201\n",
            "Enter the name: Shree\n",
            "Enter the salary: 400000\n",
            "Enter the Department Name: AI\n",
            "**************************************************\n",
            "Enter the id: 202\n",
            "Enter the name: Priya\n",
            "Enter the salary: 52990\n",
            "Enter the Department Name: IT\n",
            "**************************************************\n",
            "Enter the id: 203\n",
            "Enter the name: Nika\n",
            "Enter the salary: 65000\n",
            "Enter the Department Name: IT\n",
            "**************************************************\n",
            "Enter the id: Zoro\n",
            "Enter the name: Enter the salary: 87990\n",
            "Enter the Department Name: CS\n",
            "**************************************************\n",
            "**************************************************\n",
            "Increased Employee Salaries are as follows:\n",
            "ID: 201\n",
            "Name: Shree\n",
            "Salary: 400000.00\n",
            "Department: AI\n",
            "**************************************************\n",
            "ID: 202\n",
            "Name: Priya\n",
            "Salary: 58289.00\n",
            "Department: IT\n",
            "**************************************************\n",
            "ID: 203\n",
            "Name: Nika\n",
            "Salary: 71500.00\n",
            "Department: IT\n",
            "**************************************************\n",
            "ID: 0\n",
            "Name: Zoro\n",
            "Salary: 87990.00\n",
            "Department: CS\n",
            "**************************************************\n"
          ]
        }
      ]
    },
    {
      "cell_type": "markdown",
      "source": [
        "Q6. Define a structure Book with fields title, author, and price. Input details for n books and\n",
        "then display all books whose price is above a given value."
      ],
      "metadata": {
        "id": "-vKgppuuK9D2"
      }
    },
    {
      "cell_type": "code",
      "source": [
        "%%writefile book.c\n",
        "#include <stdio.h>\n",
        "#include <string.h>\n",
        "\n",
        "#define MAX_TITLE_LENGTH 200\n",
        "#define MAX_AUTHOR_LENGTH 200\n",
        "\n",
        "typedef struct {\n",
        "    char title[MAX_TITLE_LENGTH];\n",
        "    char author[MAX_AUTHOR_LENGTH];\n",
        "    float price;\n",
        "} Book;\n",
        "\n",
        "void displayBooksAbovePrice(Book books[], int n, float priceThreshold) {\n",
        "    printf(\"\\n--- Books with price above $%.2f ---\\n\", priceThreshold);\n",
        "    int found = 0;\n",
        "    for (int i = 0; i < n; i++) {\n",
        "        if (books[i].price > priceThreshold) {\n",
        "            printf(\"Title: %s\\n\", books[i].title);\n",
        "            printf(\"Author: %s\\n\", books[i].author);\n",
        "            printf(\"Price: $%.2f\\n\", books[i].price);\n",
        "            printf(\"\\n\");\n",
        "            found = 1;\n",
        "        }\n",
        "    }\n",
        "\n",
        "    if (!found) {\n",
        "        printf(\"No books found above the specified price.\\n\");\n",
        "    }\n",
        "}\n",
        "\n",
        "int main() {\n",
        "    int n;\n",
        "    printf(\"Enter the number of books: \");\n",
        "    scanf(\"%d\", &n);\n",
        "\n",
        "    if (n <= 0) {\n",
        "        printf(\"Number of books must be greater than 0.\\n\");\n",
        "        return 0;\n",
        "    }\n",
        "\n",
        "    Book books[n];\n",
        "\n",
        "    for (int i = 0; i < n; i++) {\n",
        "        printf(\"\\nEnter details for book %d:\\n\", i + 1);\n",
        "        printf(\"Title: \");\n",
        "        scanf(\"%s\", books[i].title);\n",
        "        printf(\"Author: \");\n",
        "        scanf(\"%s\", books[i].author);\n",
        "        printf(\"Price: \");\n",
        "        scanf(\"%f\", &books[i].price);\n",
        "    }\n",
        "\n",
        "    float priceThreshold;\n",
        "    printf(\"\\nEnter the price threshold to filter books: \");\n",
        "    scanf(\"%f\", &priceThreshold);\n",
        "\n",
        "    displayBooksAbovePrice(books, n, priceThreshold);\n",
        "\n",
        "    return 0;\n",
        "}"
      ],
      "metadata": {
        "id": "KQ9uzfoILJM5",
        "colab": {
          "base_uri": "https://localhost:8080/"
        },
        "outputId": "733cdc78-7ee6-4540-cf30-e7f391eadd91"
      },
      "execution_count": null,
      "outputs": [
        {
          "output_type": "stream",
          "name": "stdout",
          "text": [
            "Overwriting book.c\n"
          ]
        }
      ]
    },
    {
      "cell_type": "code",
      "source": [
        "!gcc book.c -o book\n",
        "!chmod +x book\n",
        "!./book"
      ],
      "metadata": {
        "colab": {
          "base_uri": "https://localhost:8080/"
        },
        "id": "WAFAQyZrDwva",
        "outputId": "5a306422-4677-47ac-d418-d3159a9ae8e2"
      },
      "execution_count": null,
      "outputs": [
        {
          "output_type": "stream",
          "name": "stdout",
          "text": [
            "Enter the number of books: 2\n",
            "\n",
            "Enter details for book 1:\n",
            "Title: TheHungerGame\n",
            "Author: SuzanneCollins\n",
            "Price: 1250\n",
            "\n",
            "Enter details for book 2:\n",
            "Title: Freakonomics\n",
            "Author: Dubner\n",
            "Price: 1860\n",
            "\n",
            "Enter the price threshold to filter books: 1600\n",
            "\n",
            "--- Books with price above $1600.00 ---\n",
            "Title: Freakonomics\n",
            "Author: Dubner\n",
            "Price: $1860.00\n",
            "\n"
          ]
        }
      ]
    },
    {
      "cell_type": "markdown",
      "source": [
        "Q7) Define a structure Date with fields day, month, and year. Write a program to\n",
        "input two dates and determine which date is earlier."
      ],
      "metadata": {
        "id": "C5QFLRiaDz1K"
      }
    },
    {
      "cell_type": "code",
      "source": [
        "%%writefile time.c\n",
        "#include <stdio.h>\n",
        "\n",
        "struct Date {\n",
        "    int day;\n",
        "    int month;\n",
        "    int year;\n",
        "};\n",
        "\n",
        "int main() {\n",
        "    struct Date date1, date2;\n",
        "\n",
        "    // Input first date\n",
        "    printf(\"Enter first date (dd mm yyyy): \");\n",
        "    scanf(\"%d %d %d\", &date1.day, &date1.month, &date1.year);\n",
        "\n",
        "    // Input second date\n",
        "    printf(\"Enter second date (dd mm yyyy): \");\n",
        "    scanf(\"%d %d %d\", &date2.day, &date2.month, &date2.year);\n",
        "\n",
        "    // Compare years first\n",
        "    if (date1.year < date2.year)\n",
        "        printf(\"First date is earlier.\\n\");\n",
        "    else if (date1.year > date2.year)\n",
        "        printf(\"Second date is earlier.\\n\");\n",
        "    else {\n",
        "        // Years are equal, compare months\n",
        "        if (date1.month < date2.month)\n",
        "            printf(\"First date is earlier.\\n\");\n",
        "        else if (date1.month > date2.month)\n",
        "            printf(\"Second date is earlier.\\n\");\n",
        "        else {\n",
        "            // Months are equal, compare days\n",
        "            if (date1.day < date2.day)\n",
        "                printf(\"First date is earlier.\\n\");\n",
        "            else if (date1.day > date2.day)\n",
        "                printf(\"Second date is earlier.\\n\");\n",
        "            else\n",
        "                printf(\"Both dates are the same.\\n\");\n",
        "        }\n",
        "    }\n",
        "\n",
        "    return 0;\n",
        "}\n",
        ""
      ],
      "metadata": {
        "colab": {
          "base_uri": "https://localhost:8080/"
        },
        "id": "CXiMhD-pE245",
        "outputId": "0cc129d4-bb06-4872-fd7d-b71b32582569"
      },
      "execution_count": 11,
      "outputs": [
        {
          "output_type": "stream",
          "name": "stdout",
          "text": [
            "Writing time.c\n"
          ]
        }
      ]
    },
    {
      "cell_type": "code",
      "source": [
        "!gcc time.c -o time\n",
        "!chmod +x time\n",
        "!./time"
      ],
      "metadata": {
        "colab": {
          "base_uri": "https://localhost:8080/"
        },
        "id": "6h3z4NIDFBX7",
        "outputId": "fe651650-18d9-4e38-bb00-8ed12c8b573e"
      },
      "execution_count": 12,
      "outputs": [
        {
          "output_type": "stream",
          "name": "stdout",
          "text": [
            "Enter first date (dd mm yyyy): 19 12 2000\n",
            "Enter second date (dd mm yyyy): 19 12 2004\n",
            "First date is earlier.\n"
          ]
        }
      ]
    },
    {
      "cell_type": "markdown",
      "source": [
        "Q8) Given an array of integers nums and an integer target, return indices of the\n",
        "two numbers such that they add up to target.\n"
      ],
      "metadata": {
        "id": "NuicdAk9FJ0U"
      }
    },
    {
      "cell_type": "code",
      "source": [
        "%%writefile 2sum.c\n",
        "#include <stdio.h>\n",
        "\n",
        "void findTwoSum(int nums[], int n, int target) {\n",
        "    for (int i = 0; i < n; i++) {\n",
        "        for (int j = i + 1; j < n; j++) {\n",
        "            if (nums[i] + nums[j] == target) {\n",
        "                printf(\"Indices found: %d and %d\\n\", i, j);\n",
        "                return;\n",
        "            }\n",
        "        }\n",
        "    }\n",
        "}\n",
        "\n",
        "int main() {\n",
        "    int nums[] = {2, 7, 11, 15};\n",
        "    int n = sizeof(nums) / sizeof(nums[0]);\n",
        "    int target = 9;\n",
        "\n",
        "    printf(\"Array: \");\n",
        "    for (int i = 0; i < n; i++) {\n",
        "        printf(\"%d \", nums[i]);\n",
        "    }\n",
        "    printf(\"\\nTarget: %d\\n\", target);\n",
        "\n",
        "    findTwoSum(nums, n, target);\n",
        "\n",
        "    return 0;\n",
        "}"
      ],
      "metadata": {
        "colab": {
          "base_uri": "https://localhost:8080/"
        },
        "id": "3hNkdm5dFsEB",
        "outputId": "a652011d-c4f9-439b-ba18-ccda44283de3"
      },
      "execution_count": null,
      "outputs": [
        {
          "output_type": "stream",
          "name": "stdout",
          "text": [
            "Writing 2sum.c\n"
          ]
        }
      ]
    },
    {
      "cell_type": "code",
      "source": [
        "!gcc 2sum.c -o 2sum\n",
        "!chmod +x 2sum\n",
        "!./2sum"
      ],
      "metadata": {
        "colab": {
          "base_uri": "https://localhost:8080/"
        },
        "id": "IQGgqO3LF3KX",
        "outputId": "e35b193f-460a-444f-cfef-18aea68fcc71"
      },
      "execution_count": null,
      "outputs": [
        {
          "output_type": "stream",
          "name": "stdout",
          "text": [
            "Array: 2 7 11 15 \n",
            "Target: 9\n",
            "Indices found: 0 and 1\n"
          ]
        }
      ]
    },
    {
      "cell_type": "markdown",
      "source": [
        "Q9) Write a function to find the longest common prefix string amongst an array\n",
        "of strings.\n",
        "If there is no common prefix, return an empty string \"\"."
      ],
      "metadata": {
        "id": "B2HYlZXPF_tK"
      }
    },
    {
      "cell_type": "code",
      "source": [
        "%%writefile lcs.c\n",
        "#include <stdio.h>\n",
        "#include <string.h>\n",
        "#include <stdlib.h>\n",
        "\n",
        "void longestCommonPrefix(char* strs[], int n) {\n",
        "    if (n == 0) {\n",
        "        strs[0][0] = '\\0';\n",
        "        return;\n",
        "    }\n",
        "\n",
        "    int i = 1;\n",
        "    while (i < n) {\n",
        "        int j = 0;\n",
        "        while (strs[i][j] != '\\0' && strs[0][j] != '\\0' && strs[i][j] == strs[0][j]) {\n",
        "            j++;\n",
        "        }\n",
        "        strs[0][j] = '\\0';\n",
        "        if (strs[0][0] == '\\0') {\n",
        "            break;\n",
        "        }\n",
        "        i++;\n",
        "    }\n",
        "}\n",
        "\n",
        "int main() {\n",
        "    char str_arr1[3][100] = {\"flower\", \"flow\", \"flight\"};\n",
        "    char *strs1[] = {str_arr1[0], str_arr1[1], str_arr1[2]};\n",
        "    int n1 = 3;\n",
        "\n",
        "    printf(\"Strings: \");\n",
        "    for (int i = 0; i < n1; i++) {\n",
        "        printf(\"%s \", strs1[i]);\n",
        "    }\n",
        "\n",
        "    longestCommonPrefix(strs1, n1);\n",
        "    printf(\"\\nLongest common prefix: \\\"%s\\\"\\n\\n\", str_arr1[0]);\n",
        "\n",
        "    char str_arr2[3][100] = {\"dog\", \"racecar\", \"car\"};\n",
        "    char *strs2[] = {str_arr2[0], str_arr2[1], str_arr2[2]};\n",
        "    int n2 = 3;\n",
        "\n",
        "    printf(\"Strings: \");\n",
        "    for (int i = 0; i < n2; i++) {\n",
        "        printf(\"%s \", strs2[i]);\n",
        "    }\n",
        "\n",
        "    longestCommonPrefix(strs2, n2);\n",
        "    printf(\"\\nLongest common prefix: \\\"%s\\\"\\n\", str_arr2[0]);\n",
        "\n",
        "    return 0;\n",
        "}\n"
      ],
      "metadata": {
        "colab": {
          "base_uri": "https://localhost:8080/"
        },
        "id": "G3qnjxorGEQT",
        "outputId": "106ddfed-233f-4365-a8a9-846adf57ae91"
      },
      "execution_count": null,
      "outputs": [
        {
          "output_type": "stream",
          "name": "stdout",
          "text": [
            "Overwriting lcs.c\n"
          ]
        }
      ]
    },
    {
      "cell_type": "code",
      "source": [
        "!gcc lcs.c -o lcs\n",
        "!chmod +x lcs\n",
        "!./lcs"
      ],
      "metadata": {
        "colab": {
          "base_uri": "https://localhost:8080/"
        },
        "id": "CzlFNz7sGQIt",
        "outputId": "c35c7e29-01f8-486b-a00f-8c89d953f42e"
      },
      "execution_count": null,
      "outputs": [
        {
          "output_type": "stream",
          "name": "stdout",
          "text": [
            "Strings: flower flow flight \n",
            "Longest common prefix: \"fl\"\n",
            "\n",
            "Strings: dog racecar car \n",
            "Longest common prefix: \"\"\n"
          ]
        }
      ]
    },
    {
      "cell_type": "markdown",
      "source": [
        "Q10) Given an integer array nums, return true if any value appears at least twice\n",
        "in the array, and return false if every element is distinct."
      ],
      "metadata": {
        "id": "TF16PP0bGfS2"
      }
    },
    {
      "cell_type": "code",
      "source": [
        "%%writefile twice.c\n",
        "#include <stdio.h>\n",
        "#include <stdbool.h>\n",
        "\n",
        "bool containsDuplicate(int nums[], int n) {\n",
        "    for (int i = 0; i < n; i++) {\n",
        "        for (int j = i + 1; j < n; j++) {\n",
        "            if (nums[i] == nums[j]) {\n",
        "                return true;\n",
        "            }\n",
        "        }\n",
        "    }\n",
        "    return false;\n",
        "}\n",
        "\n",
        "void printResult(int nums[], int n, bool result) {\n",
        "    printf(\"Array: [\");\n",
        "    for (int i = 0; i < n; i++) {\n",
        "        printf(\"%d\", nums[i]);\n",
        "        if (i < n - 1) {\n",
        "            printf(\", \");\n",
        "        }\n",
        "    }\n",
        "    printf(\"]\\n\");\n",
        "\n",
        "    printf(\"Contains duplicate: %s\\n\\n\", result ? \"true\" : \"false\");\n",
        "}\n",
        "\n",
        "int main() {\n",
        "    int nums1[] = {1, 2, 3, 1};\n",
        "    int n1 = sizeof(nums1) / sizeof(nums1[0]);\n",
        "    bool result1 = containsDuplicate(nums1, n1);\n",
        "    printResult(nums1, n1, result1);\n",
        "\n",
        "    int nums2[] = {1, 2, 3, 4};\n",
        "    int n2 = sizeof(nums2) / sizeof(nums2[0]);\n",
        "    bool result2 = containsDuplicate(nums2, n2);\n",
        "    printResult(nums2, n2, result2);\n",
        "\n",
        "    int nums3[] = {1, 1, 1, 3, 3, 4, 3, 2, 4, 2};\n",
        "    int n3 = sizeof(nums3) / sizeof(nums3[0]);\n",
        "    bool result3 = containsDuplicate(nums3, n3);\n",
        "    printResult(nums3, n3, result3);\n",
        "\n",
        "    return 0;\n",
        "}"
      ],
      "metadata": {
        "colab": {
          "base_uri": "https://localhost:8080/"
        },
        "id": "xH2dHkJvGnyS",
        "outputId": "651bb494-fb35-4d18-c9ac-956c36d40e64"
      },
      "execution_count": null,
      "outputs": [
        {
          "output_type": "stream",
          "name": "stdout",
          "text": [
            "Overwriting twice.c\n"
          ]
        }
      ]
    },
    {
      "cell_type": "code",
      "source": [
        "!gcc twice.c -o twice\n",
        "!chmod +x twice\n",
        "!./twice"
      ],
      "metadata": {
        "colab": {
          "base_uri": "https://localhost:8080/"
        },
        "id": "zLaOnIt9Gx-U",
        "outputId": "e2e31712-f5db-4528-d763-1429c3a72fa3"
      },
      "execution_count": null,
      "outputs": [
        {
          "output_type": "stream",
          "name": "stdout",
          "text": [
            "Array: [1, 2, 3, 1]\n",
            "Contains duplicate: true\n",
            "\n",
            "Array: [1, 2, 3, 4]\n",
            "Contains duplicate: false\n",
            "\n",
            "Array: [1, 1, 1, 3, 3, 4, 3, 2, 4, 2]\n",
            "Contains duplicate: true\n",
            "\n"
          ]
        }
      ]
    }
  ]
}
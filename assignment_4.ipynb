{
  "nbformat": 4,
  "nbformat_minor": 0,
  "metadata": {
    "colab": {
      "provenance": [],
      "include_colab_link": true
    },
    "kernelspec": {
      "name": "python3",
      "display_name": "Python 3"
    },
    "language_info": {
      "name": "python"
    }
  },
  "cells": [
    {
      "cell_type": "markdown",
      "metadata": {
        "id": "view-in-github",
        "colab_type": "text"
      },
      "source": [
        "<a href=\"https://colab.research.google.com/github/Prabhjot-Singh1/ADSAL_LAB_/blob/main/assignment_4.ipynb\" target=\"_parent\"><img src=\"https://colab.research.google.com/assets/colab-badge.svg\" alt=\"Open In Colab\"/></a>"
      ]
    },
    {
      "cell_type": "markdown",
      "source": [
        "1. Write a program to swap two complex numbers using a struct."
      ],
      "metadata": {
        "id": "PKLInM2x6drv"
      }
    },
    {
      "cell_type": "code",
      "source": [
        "%%writefile swap.c\n",
        "#include <stdio.h>\n",
        "struct Complex {\n",
        "    int real;\n",
        "    int imag;\n",
        "};\n",
        "\n",
        "void swap(struct Complex *c1, struct Complex *c2) {\n",
        "    struct Complex temp = *c1;\n",
        "    *c1 = *c2;\n",
        "    *c2 = temp;\n",
        "}\n",
        "\n",
        "int main() {\n",
        "    struct Complex num1, num2;\n",
        "\n",
        "\n",
        "    printf(\"Enter real and imaginary parts of first complex number: \");\n",
        "    scanf(\"%d %d\", &num1.real, &num1.imag);\n",
        "\n",
        "\n",
        "    printf(\"Enter real and imaginary parts of second complex number: \");\n",
        "    scanf(\"%d %d\", &num2.real, &num2.imag);\n",
        "\n",
        "\n",
        "    printf(\"Before swapping:\\n\");\n",
        "    printf(\"First complex number: %d + %di\\n\", num1.real, num1.imag);\n",
        "    printf(\"Second complex number: %d + %di\\n\", num2.real, num2.imag);\n",
        "\n",
        "\n",
        "    swap(&num1, &num2);\n",
        "\n",
        "\n",
        "    printf(\"After swapping:\\n\");\n",
        "    printf(\"First complex number: %d + %di\\n\", num1.real, num1.imag);\n",
        "    printf(\"Second complex number: %d + %di\\n\", num2.real, num2.imag);\n",
        "\n",
        "    return 0;\n",
        "}"
      ],
      "metadata": {
        "colab": {
          "base_uri": "https://localhost:8080/"
        },
        "id": "BKxiEZYP7HEt",
        "outputId": "c2da5dd8-d460-4a50-f485-56232ab98a0e"
      },
      "execution_count": 1,
      "outputs": [
        {
          "output_type": "stream",
          "name": "stdout",
          "text": [
            "Writing swap.c\n"
          ]
        }
      ]
    },
    {
      "cell_type": "code",
      "source": [
        "!gcc swap.c -o swap\n",
        "!chmod +x swap\n",
        "!./swap"
      ],
      "metadata": {
        "colab": {
          "base_uri": "https://localhost:8080/"
        },
        "id": "WrvsaPqw74u4",
        "outputId": "b194d953-f9b5-45ea-cbe1-f6534a302872"
      },
      "execution_count": 3,
      "outputs": [
        {
          "output_type": "stream",
          "name": "stdout",
          "text": [
            "Enter real and imaginary parts of first complex number: 1 2\n",
            "Enter real and imaginary parts of second complex number: 3 4\n",
            "Before swapping:\n",
            "First complex number: 1 + 2i\n",
            "Second complex number: 3 + 4i\n",
            "After swapping:\n",
            "First complex number: 3 + 4i\n",
            "Second complex number: 1 + 2i\n"
          ]
        }
      ]
    },
    {
      "cell_type": "markdown",
      "source": [
        "2. Write a program to store and display information of n employees using an array of\n",
        "structures."
      ],
      "metadata": {
        "id": "Ca1-AWQ87-G5"
      }
    },
    {
      "cell_type": "code",
      "source": [
        "%%writefile employee.c\n",
        "#include <stdio.h>\n",
        "\n",
        "struct Employee {\n",
        "    int id;\n",
        "    char name[50];\n",
        "    float salary;\n",
        "};\n",
        "\n",
        "\n",
        "int main()\n",
        "{\n",
        "    struct Employee employees[100];\n",
        "    int n;\n",
        "\n",
        "    // Input number of employees\n",
        "    printf(\"Enter number of employees: \");\n",
        "    scanf(\"%d\", &n);\n",
        "\n",
        "    // Input employee details\n",
        "    for (int i = 0; i < n; i++) {\n",
        "        printf(\"\\nEnter details for employee %d:\\n\", i + 1);\n",
        "        printf(\"ID: \");\n",
        "        scanf(\"%d\", &employees[i].id);\n",
        "        printf(\"Name: \");\n",
        "        scanf(\" %s\", employees[i].name);\n",
        "        printf(\"Salary: \");\n",
        "        scanf(\"%f\", &employees[i].salary);\n",
        "    }\n",
        "\n",
        "    // Display employee details\n",
        "    printf(\"\\nAll the Employee Details are as follow ----------------:\\n\");\n",
        "    for (int i = 0; i < n; i++) {\n",
        "        printf(\"Employee %d:\\n\", i + 1);\n",
        "        printf(\"ID: %d\\n\", employees[i].id);\n",
        "        printf(\"Name: %s\\n\", employees[i].name);\n",
        "        printf(\"Salary: %.2f\\n\", employees[i].salary);\n",
        "    }\n",
        "\n",
        "    return 0;\n",
        "}"
      ],
      "metadata": {
        "colab": {
          "base_uri": "https://localhost:8080/"
        },
        "id": "I6-mOn8r8or4",
        "outputId": "d9f325ac-88cb-4613-d4b1-26495bec1612"
      },
      "execution_count": 7,
      "outputs": [
        {
          "output_type": "stream",
          "name": "stdout",
          "text": [
            "Overwriting employee.c\n"
          ]
        }
      ]
    },
    {
      "cell_type": "code",
      "source": [
        "!gcc employee.c -o employee\n",
        "!chmod +x employee\n",
        "!./employee"
      ],
      "metadata": {
        "colab": {
          "base_uri": "https://localhost:8080/"
        },
        "id": "nHq9_oAi9wDd",
        "outputId": "a6beff59-c098-4c4e-f630-a36c197b5eb5"
      },
      "execution_count": 8,
      "outputs": [
        {
          "output_type": "stream",
          "name": "stdout",
          "text": [
            "Enter number of employees: 2\n",
            "\n",
            "Enter details for employee 1:\n",
            "ID: 1\n",
            "Name: Prabhjot\n",
            "Salary: 100\n",
            "\n",
            "Enter details for employee 2:\n",
            "ID: 2\n",
            "Name: Veeky\n",
            "Salary: 200\n",
            "\n",
            "All the Employee Details are as follow ----------------:\n",
            "Employee 1:\n",
            "ID: 1\n",
            "Name: Prabhjot\n",
            "Salary: 100.00\n",
            "Employee 2:\n",
            "ID: 2\n",
            "Name: Veeky\n",
            "Salary: 200.00\n"
          ]
        }
      ]
    },
    {
      "cell_type": "markdown",
      "source": [
        "3. Explain how nested structures work. Write a program where a struct for date is nested\n",
        "inside a struct for student."
      ],
      "metadata": {
        "id": "JxWTRDDo9ybb"
      }
    },
    {
      "cell_type": "code",
      "source": [
        "%%writefile student.c\n",
        "#include <stdio.h>\n",
        "struct Date {\n",
        "    int day;\n",
        "    int month;\n",
        "    int year;\n",
        "};\n",
        "\n",
        "struct Student {\n",
        "    int id;\n",
        "    char name[50];\n",
        "    struct Date dob;\n",
        "};\n",
        "\n",
        "int main() {\n",
        "    struct Student student;\n",
        "\n",
        "\n",
        "    printf(\"Enter student ID: \");\n",
        "    scanf(\"%d\", &student.id);\n",
        "    printf(\"Enter student name: \");\n",
        "    scanf(\" %s\", student.name);\n",
        "    printf(\"Enter date of birth (day month year): \");\n",
        "    scanf(\"%d %d %d\", &student.dob.day, &student.dob.month, &student.dob.year);\n",
        "\n",
        "\n",
        "    printf(\"\\nStudent Details:\\n\");\n",
        "    printf(\"ID: %d\\n\", student.id);\n",
        "    printf(\"Name: %s\\n\", student.name);\n",
        "    printf(\"Date of Birth: %d/%d/%d\\n\", student.dob.day, student.dob.month, student.dob.year);\n",
        "\n",
        "    return 0;\n",
        "}"
      ],
      "metadata": {
        "colab": {
          "base_uri": "https://localhost:8080/"
        },
        "id": "l8OTBX9k-t_L",
        "outputId": "8cb47e79-573c-4644-a10a-c7e9bd44e3a9"
      },
      "execution_count": 9,
      "outputs": [
        {
          "output_type": "stream",
          "name": "stdout",
          "text": [
            "Writing student.c\n"
          ]
        }
      ]
    },
    {
      "cell_type": "code",
      "source": [
        "!gcc student.c -o student\n",
        "!chmod +x student\n",
        "!./student"
      ],
      "metadata": {
        "colab": {
          "base_uri": "https://localhost:8080/"
        },
        "id": "Sxwj7PME_5kr",
        "outputId": "d736a6ee-cd92-4f87-c4eb-c6df5e3822d2"
      },
      "execution_count": 10,
      "outputs": [
        {
          "output_type": "stream",
          "name": "stdout",
          "text": [
            "Enter student ID: 1\n",
            "Enter student name: Prabhjot\n",
            "Enter date of birth (day month year): 19 12 2000\n",
            "\n",
            "Student Details:\n",
            "ID: 1\n",
            "Name: Prabhjot\n",
            "Date of Birth: 19/12/2000\n"
          ]
        }
      ]
    },
    {
      "cell_type": "markdown",
      "source": [
        "4. Can a struct contain a pointer to itself? Give an example."
      ],
      "metadata": {
        "id": "OY0YybajAKIO"
      }
    },
    {
      "cell_type": "code",
      "source": [
        "%%writefile p_itself.c\n",
        "#include<stdio.h>\n",
        "#include<stdlib.h>\n",
        "struct node{\n",
        "  int data;\n",
        "  struct node *next;\n",
        "};\n",
        "\n",
        "int main(){\n",
        "  struct node *head,*temp;\n",
        "  head=(struct node*)malloc(sizeof(struct node));\n",
        "  temp=(struct node*)malloc(sizeof(struct node));\n",
        "  head->data = 10;\n",
        "  head->next = temp;\n",
        "  temp->data = 20;\n",
        "  temp->next = head;\n",
        "\n",
        "  printf(\"%d\\n\",head->data);\n",
        "  printf(\"%d\\n\",head->next->data);\n",
        "\n",
        "}"
      ],
      "metadata": {
        "colab": {
          "base_uri": "https://localhost:8080/"
        },
        "id": "lKQDRukSAigC",
        "outputId": "ab07be9b-eec4-4fd4-df13-5a4298909b91"
      },
      "execution_count": null,
      "outputs": [
        {
          "output_type": "stream",
          "name": "stdout",
          "text": [
            "Overwriting p_itself.c\n"
          ]
        }
      ]
    },
    {
      "cell_type": "code",
      "source": [
        "!gcc p_itself.c -o p_itself\n",
        "!chmod +x p_itself\n",
        "!./p_itself"
      ],
      "metadata": {
        "colab": {
          "base_uri": "https://localhost:8080/"
        },
        "id": "zlGCkelPEvco",
        "outputId": "278de09e-930d-4a6a-8b8e-2e745f358442"
      },
      "execution_count": null,
      "outputs": [
        {
          "output_type": "stream",
          "name": "stdout",
          "text": [
            "10\n",
            "20\n"
          ]
        }
      ]
    },
    {
      "cell_type": "markdown",
      "source": [
        "5. Write a C program to find the highest marks among n students using a structure array."
      ],
      "metadata": {
        "id": "N7UCAV8EE87_"
      }
    },
    {
      "cell_type": "code",
      "source": [
        "%%writefile high.c\n",
        "#include <stdio.h>\n",
        "struct student{\n",
        "  int roll_no;\n",
        "  char name[20];\n",
        "  float marks;\n",
        "};\n",
        "\n",
        "int main(){\n",
        "  int n,i;\n",
        "  printf(\"Enter the number of students\\n\");\n",
        "  scanf(\"%d\",&n);\n",
        "\n",
        "  struct student s[n];\n",
        "  float highest_marks = 0;\n",
        "\n",
        "  for(i=0;i<n;i++){\n",
        "    printf(\"Enter the roll number for student %d\\n\", i+1);\n",
        "    scanf(\"%d\",&s[i].roll_no);\n",
        "    printf(\"Enter the name for student %d\\n\", i+1);\n",
        "    scanf(\"%s\",s[i].name);\n",
        "    printf(\"Enter the marks for student %d\\n\", i+1);\n",
        "    scanf(\"%f\",&s[i].marks);\n",
        "    if(s[i].marks > highest_marks){\n",
        "      highest_marks = s[i].marks;\n",
        "    }\n",
        "    printf(\"---------------------------------------------\\n\");\n",
        "  }\n",
        "\n",
        "  printf(\"The highest marks obtained is %.2f\\n\", highest_marks);\n",
        "\n",
        "  return 0;\n",
        "}"
      ],
      "metadata": {
        "colab": {
          "base_uri": "https://localhost:8080/"
        },
        "id": "H2f_ZciZFbbf",
        "outputId": "5aa7d303-d198-4244-c0f2-6ee6675e977a"
      },
      "execution_count": null,
      "outputs": [
        {
          "output_type": "stream",
          "name": "stdout",
          "text": [
            "Writing high.c\n"
          ]
        }
      ]
    },
    {
      "cell_type": "code",
      "source": [
        "!gcc high.c -o high\n",
        "!chmod +x high\n",
        "!./high"
      ],
      "metadata": {
        "colab": {
          "base_uri": "https://localhost:8080/"
        },
        "id": "K2Xby47GG6Cm",
        "outputId": "7be82859-873f-45ec-bce0-3620de7bdb8d"
      },
      "execution_count": null,
      "outputs": [
        {
          "output_type": "stream",
          "name": "stdout",
          "text": [
            "Enter the number of students\n",
            "3\n",
            "Enter the roll number for student 1\n",
            "40\n",
            "Enter the name for student 1\n",
            "Prabhjot\n",
            "Enter the marks for student 1\n",
            "25\n",
            "---------------------------------------------\n",
            "Enter the roll number for student 2\n",
            "23\n",
            "Enter the name for student 2\n",
            "Vishy\n",
            "Enter the marks for student 2\n",
            "24\n",
            "---------------------------------------------\n",
            "Enter the roll number for student 3\n",
            "37\n",
            "Enter the name for student 3\n",
            "Sid\n",
            "Enter the marks for student 3\n",
            "\n",
            "26\n",
            "---------------------------------------------\n",
            "The highest marks obtained is 26.00\n"
          ]
        }
      ]
    },
    {
      "cell_type": "markdown",
      "source": [
        "6. How can you compare two structures in C? Illustrate with an example comparing two\n",
        "student structures."
      ],
      "metadata": {
        "id": "xV29GKubHRfm"
      }
    },
    {
      "cell_type": "code",
      "source": [
        "%%writefile compare.c\n",
        "#include <stdio.h>\n",
        "#include <string.h>\n",
        "\n",
        "struct Student {\n",
        "    int id;\n",
        "    char name[50];\n",
        "    float marks;\n",
        "};\n",
        "\n",
        "\n",
        "int compareStudents(struct Student s1, struct Student s2) {\n",
        "    if (s1.id == s2.id &&\n",
        "        strcmp(s1.name, s2.name) == 0 &&\n",
        "        s1.marks == s2.marks) {\n",
        "        return 1;\n",
        "    }\n",
        "    return 0;\n",
        "}\n",
        "\n",
        "int main() {\n",
        "    struct Student st1 = {101, \"Prabhjot\", 85.5};\n",
        "    struct Student st2 = {101, \"Prabhjot\", 85.5};\n",
        "    struct Student st3 = {102, \"Rohit\", 90.0};\n",
        "\n",
        "    if (compareStudents(st1, st2))\n",
        "        printf(\"st1 and st2 are equal.\\n\");\n",
        "    else\n",
        "        printf(\"st1 and st2 are not equal.\\n\");\n",
        "\n",
        "    if (compareStudents(st1, st3))\n",
        "        printf(\"st1 and st3 are equal.\\n\");\n",
        "    else\n",
        "        printf(\"st1 and st3 are not equal.\\n\");\n",
        "\n",
        "    return 0;\n",
        "}\n"
      ],
      "metadata": {
        "colab": {
          "base_uri": "https://localhost:8080/"
        },
        "id": "D94O0KmqIb0B",
        "outputId": "181a9335-4c02-4f25-db76-666e14d62c6b"
      },
      "execution_count": 11,
      "outputs": [
        {
          "output_type": "stream",
          "name": "stdout",
          "text": [
            "Writing compare.c\n"
          ]
        }
      ]
    },
    {
      "cell_type": "code",
      "source": [
        "!gcc compare.c -o compare\n",
        "!chmod +x compare\n",
        "!./compare"
      ],
      "metadata": {
        "colab": {
          "base_uri": "https://localhost:8080/"
        },
        "id": "i9E-KgZdMW0C",
        "outputId": "cf7ec979-6b00-466b-fbcd-45736201b1ba"
      },
      "execution_count": null,
      "outputs": [
        {
          "output_type": "stream",
          "name": "stdout",
          "text": [
            "st1 and st2 are equal.\n",
            "st1 and st3 are not equal.\n"
          ]
        }
      ]
    },
    {
      "cell_type": "markdown",
      "source": [
        "7. Write a program that uses an array of structures to represent a cricket team (player\n",
        "name, runs, wickets). Print the player with the highest runs."
      ],
      "metadata": {
        "id": "yVABqgwNMfxt"
      }
    },
    {
      "cell_type": "code",
      "source": [
        "%%writefile player.c\n",
        "#include<stdio.h>\n",
        "struct player{\n",
        "  char p_name[20];\n",
        "  int runs;\n",
        "  int wickets;\n",
        "};\n",
        "\n",
        "int main(){\n",
        "  int n;\n",
        "  printf(\"Enter the number of players: \");\n",
        "  scanf(\"%d\",&n);\n",
        "  struct player p[n];\n",
        "\n",
        "  for(int i=0;i<n;i++){\n",
        "    printf(\"Enter the name of player %d: \",i+1);\n",
        "    scanf(\"%s\",p[i].p_name);\n",
        "    printf(\"Enter the runs of player %d: \",i+1);\n",
        "    scanf(\"%d\",&p[i].runs);\n",
        "    printf(\"Enter the wickets of player %d: \",i+1);\n",
        "    scanf(\"%d\",&p[i].wickets);\n",
        "  }\n",
        "\n",
        "  int max = 0;\n",
        "  int index = 0;\n",
        "  for(int i=0;i<n;i++){\n",
        "\n",
        "    if (p[i].runs > max){\n",
        "      max = p[i].runs;\n",
        "      index = i;\n",
        "    }\n",
        "   }\n",
        "\n",
        "   printf(\"The player with the highest runs is %s with %d runs\",p[index].p_name,p[index].runs);\n",
        "\n",
        "}\n"
      ],
      "metadata": {
        "colab": {
          "base_uri": "https://localhost:8080/"
        },
        "id": "6pHWEBxoMqnQ",
        "outputId": "13b5f821-0fc9-417c-fb6a-363bab3947df"
      },
      "execution_count": null,
      "outputs": [
        {
          "output_type": "stream",
          "name": "stdout",
          "text": [
            "Overwriting player.c\n"
          ]
        }
      ]
    },
    {
      "cell_type": "code",
      "source": [
        "!gcc player.c -o player\n",
        "!chmod +x player\n",
        "!./player"
      ],
      "metadata": {
        "colab": {
          "base_uri": "https://localhost:8080/"
        },
        "id": "4lCfMbgSRW_A",
        "outputId": "560064fb-ed30-4a08-9e18-ee9267e72074"
      },
      "execution_count": null,
      "outputs": [
        {
          "output_type": "stream",
          "name": "stdout",
          "text": [
            "Enter the number of players: 3\n",
            "Enter the name of player 1: Virat\n",
            "Enter the runs of player 1: 14153\n",
            "Enter the wickets of player 1: 12\n",
            "Enter the name of player 2: Rohit\n",
            "Enter the runs of player 2: 12856\n",
            "Enter the wickets of player 2: 26\n",
            "Enter the name of player 3: MSD\n",
            "Enter the runs of player 3: 8056\n",
            "Enter the wickets of player 3: 3\n",
            "The player with the highest runs is Virat with 14153 runs"
          ]
        }
      ]
    },
    {
      "cell_type": "markdown",
      "source": [
        "8. Explain how calloc differs from malloc while allocating memory for an array of\n",
        "structures."
      ],
      "metadata": {
        "id": "K3X7XQqbRpCx"
      }
    },
    {
      "cell_type": "code",
      "source": [
        "%%writefile differ.c\n",
        "#include <stdio.h>\n",
        "#include <stdlib.h>\n",
        "\n",
        "struct Employee {\n",
        "    int id;\n",
        "    char name[50];\n",
        "    float salary;\n",
        "};\n",
        "\n",
        "int main() {\n",
        "    int n = 3;\n",
        "   // malloc() and calloc() both allocate memory dynamically, but they differ in initialization. malloc() allocates a single block of memory and leaves it uninitialized thus returning garbage values, but calloc() allocates multiple blocks (for an array) and initializes all bytes to zero\n",
        "\n",
        "    // --- Using malloc() ---\n",
        "    struct Employee *emp_malloc = (struct Employee *)malloc(n * sizeof(struct Employee));\n",
        "\n",
        "    // --- Using calloc() ---\n",
        "    struct Employee *emp_calloc = (struct Employee *)calloc(n, sizeof(struct Employee));\n",
        "\n",
        "    printf(\"---- Memory allocated using malloc() ----\\n\");\n",
        "    for (int i = 0; i < n; i++) {\n",
        "        printf(\"Employee %d -> ID: %d, Salary: %.2f\\n\", i + 1, emp_malloc[i].id, emp_malloc[i].salary);\n",
        "    }\n",
        "\n",
        "    printf(\"\\n---- Memory allocated using calloc() ----\\n\");\n",
        "    for (int i = 0; i < n; i++) {\n",
        "        printf(\"Employee %d -> ID: %d, Salary: %.2f\\n\", i + 1, emp_calloc[i].id, emp_calloc[i].salary);\n",
        "    }\n",
        "\n",
        "    // Free the allocated memory\n",
        "    free(emp_malloc);\n",
        "    free(emp_calloc);\n",
        "\n",
        "    return 0;\n",
        "}\n",
        "\n",
        "\n",
        "\n",
        "\n"
      ],
      "metadata": {
        "colab": {
          "base_uri": "https://localhost:8080/"
        },
        "id": "9Bsw2htFSF6X",
        "outputId": "2aea65db-87cc-4945-faea-d55fc2a4151c"
      },
      "execution_count": 12,
      "outputs": [
        {
          "output_type": "stream",
          "name": "stdout",
          "text": [
            "Writing differ.c\n"
          ]
        }
      ]
    },
    {
      "cell_type": "code",
      "source": [
        "!gcc differ.c -o differ\n",
        "!chmod +x differ\n",
        "!./differ"
      ],
      "metadata": {
        "colab": {
          "base_uri": "https://localhost:8080/"
        },
        "id": "Rb4nC0-tUxUE",
        "outputId": "05d1f710-7f43-43d4-95bd-335f7930c1f2"
      },
      "execution_count": 13,
      "outputs": [
        {
          "output_type": "stream",
          "name": "stdout",
          "text": [
            "---- Memory allocated using malloc() ----\n",
            "Employee 1 -> ID: 0, Salary: 0.00\n",
            "Employee 2 -> ID: 0, Salary: 0.00\n",
            "Employee 3 -> ID: 0, Salary: 0.00\n",
            "\n",
            "---- Memory allocated using calloc() ----\n",
            "Employee 1 -> ID: 0, Salary: 0.00\n",
            "Employee 2 -> ID: 0, Salary: 0.00\n",
            "Employee 3 -> ID: 0, Salary: 0.00\n"
          ]
        }
      ]
    },
    {
      "cell_type": "markdown",
      "source": [
        "9. Write a program to dynamically allocate memory for a 2D array inside a\n",
        "structure and store integers in it."
      ],
      "metadata": {
        "id": "D1DK_0dmU9w0"
      }
    },
    {
      "cell_type": "code",
      "source": [
        "%%writefile 9.c\n",
        "#include <stdio.h>\n",
        "#include <stdlib.h>\n",
        "\n",
        "struct Matrix {\n",
        "    int rows;\n",
        "    int cols;\n",
        "    int **data;\n",
        "};\n",
        "\n",
        "int main() {\n",
        "    struct Matrix mat;\n",
        "\n",
        "    // Input dimensions\n",
        "    printf(\"Enter number of rows: \");\n",
        "    scanf(\"%d\", &mat.rows);\n",
        "    printf(\"Enter number of columns: \");\n",
        "    scanf(\"%d\", &mat.cols);\n",
        "\n",
        "    // Check for valid dimensions\n",
        "    if (mat.rows <= 0 || mat.cols <= 0) {\n",
        "        printf(\"Invalid dimensions!\\n\");\n",
        "        return 1;\n",
        "   }\n",
        "\n",
        "    // Allocate array of row pointers\n",
        "    mat.data = (int**)malloc(mat.rows * sizeof(int*));\n",
        "    if (mat.data == NULL) {\n",
        "        printf(\"Memory allocation failed for rows!\\n\");\n",
        "        return 1;\n",
        "    }\n",
        "\n",
        "    // Allocate memory for each row\n",
        "    for (int i = 0; i < mat.rows; i++) {\n",
        "        mat.data[i] = (int*)malloc(mat.cols * sizeof(int));\n",
        "        if (mat.data[i] == NULL) {\n",
        "            printf(\"Memory allocation failed for row %d!\\n\", i);\n",
        "\n",
        "            // Free previously allocated rows\n",
        "            for (int j = 0; j < i; j++) {\n",
        "                free(mat.data[j]);\n",
        "            }\n",
        "            free(mat.data);\n",
        "            return 1;\n",
        "        }\n",
        "    }\n",
        "\n",
        "    // Input integers into the 2D array\n",
        "    printf(\"Enter %d x %d integers:\\n\", mat.rows, mat.cols);\n",
        "    for (int i = 0; i < mat.rows; i++) {\n",
        "        for (int j = 0; j < mat.cols; j++) {\n",
        "            scanf(\"%d\", &mat.data[i][j]);\n",
        "        }\n",
        "    }\n",
        "\n",
        "    // Display the 2D array\n",
        "    printf(\"\\nStored 2D array:\\n\");\n",
        "    for (int i = 0; i < mat.rows; i++) {\n",
        "        for (int j = 0; j < mat.cols; j++) {\n",
        "            printf(\"%d \", mat.data[i][j]);\n",
        "        }\n",
        "        printf(\"\\n\");\n",
        "    }\n",
        "\n",
        "    // Free allocated memory\n",
        "    for (int i = 0; i < mat.rows; i++) {\n",
        "        free(mat.data[i]);\n",
        "    }\n",
        "    free(mat.data);\n",
        "\n",
        "    printf(\"Memory deallocated successfully.\\n\");\n",
        "    return 0;\n",
        "}"
      ],
      "metadata": {
        "colab": {
          "base_uri": "https://localhost:8080/"
        },
        "id": "uXGAGEzRA87P",
        "outputId": "0743d770-a8cd-4fb8-dd28-f45818f82425"
      },
      "execution_count": null,
      "outputs": [
        {
          "output_type": "stream",
          "name": "stdout",
          "text": [
            "Overwriting 9.c\n"
          ]
        }
      ]
    },
    {
      "cell_type": "code",
      "source": [
        "!gcc 9.c -o 9\n",
        "!chmod +x 9\n",
        "!./9"
      ],
      "metadata": {
        "colab": {
          "base_uri": "https://localhost:8080/"
        },
        "id": "OMiJ8RutBPQv",
        "outputId": "e572ccf3-077c-4e56-e8b7-d8b226d70616"
      },
      "execution_count": null,
      "outputs": [
        {
          "output_type": "stream",
          "name": "stdout",
          "text": [
            "Enter number of rows: 3\n",
            "Enter number of columns: 3\n",
            "Enter 3 x 3 integers:\n",
            "1\n",
            "2\n",
            "3\n",
            "4\n",
            "5\n",
            "6\n",
            "7\n",
            "8\n",
            "9\n",
            "\n",
            "Stored 2D array:\n",
            "1 2 3 \n",
            "4 5 6 \n",
            "7 8 9 \n",
            "Memory deallocated successfully.\n"
          ]
        }
      ]
    },
    {
      "cell_type": "markdown",
      "source": [
        "10. Using realloc, write a program to increase the number of students in a\n",
        "dynamically allocated array of structures and input the new student details."
      ],
      "metadata": {
        "id": "WghVY5RIBZA4"
      }
    },
    {
      "cell_type": "code",
      "source": [
        "%%writefile 10.c\n",
        "#include <stdio.h>\n",
        "#include <stdlib.h>\n",
        "#include <string.h>\n",
        "\n",
        "struct Student {\n",
        "    int id;\n",
        "    char name[50];\n",
        "    int age;\n",
        "};\n",
        "\n",
        "int main() {\n",
        "    int initial_size = 3;  // Initial number of students\n",
        "    int additional_students = 2;  // Number to add\n",
        "    struct Student *students;\n",
        "    int total_size = initial_size;\n",
        "\n",
        "    // Allocate initial memory using malloc\n",
        "    students = (struct Student *)malloc(initial_size * sizeof(struct Student));\n",
        "    if (students == NULL) {\n",
        "        printf(\"Memory allocation failed\\n\");\n",
        "        return 1;\n",
        "    }\n",
        "\n",
        "    // Input initial students' details\n",
        "    printf(\"Enter details for initial %d students:\\n\", initial_size);\n",
        "    for (int i = 0; i < initial_size; i++) {\n",
        "        printf(\"Student %d:\\n\", i + 1);\n",
        "        printf(\"ID: \");\n",
        "        scanf(\"%d\", &students[i].id);\n",
        "        printf(\"Name: \");\n",
        "        scanf(\"%s\", students[i].name);\n",
        "        printf(\"Age: \");\n",
        "        scanf(\"%d\", &students[i].age);\n",
        "        printf(\"\\n\");\n",
        "    }\n",
        "\n",
        "    // Reallocate memory to increase size\n",
        "    total_size += additional_students;\n",
        "    students = (struct Student *)realloc(students, total_size * sizeof(struct\n",
        "Student));\n",
        "    if (students == NULL) {\n",
        "        printf(\"Memory reallocation failed\\n\");\n",
        "        free(students);  // Free original allocation\n",
        "        return 1;\n",
        "    }\n",
        "\n",
        "    // Input new student's details\n",
        "    printf(\"Enter details for additional %d students:\\n\", additional_students);\n",
        "    for (int i = initial_size; i < total_size; i++) {\n",
        "        printf(\"Student %d:\\n\", i + 1);\n",
        "        printf(\"ID: \");\n",
        "        scanf(\"%d\", &students[i].id);\n",
        "        printf(\"Name: \");\n",
        "        scanf(\"%s\", students[i].name);\n",
        "        printf(\"Age: \");\n",
        "        scanf(\"%d\", &students[i].age);\n",
        "        printf(\"\\n\");\n",
        "    }\n",
        "\n",
        "    // Display all students\n",
        "    printf(\"\\nAll %d students:\\n\", total_size);\n",
        "    for (int i = 0; i < total_size; i++) {\n",
        "        printf(\"Student %d: ID=%d, Name=%s, Age=%d\\n\", i + 1, students[i].id,\n",
        "students[i].name, students[i].age);\n",
        "    }\n",
        "\n",
        "    // Free the allocated memory\n",
        "    free(students);\n",
        "    return 0;\n",
        "}"
      ],
      "metadata": {
        "colab": {
          "base_uri": "https://localhost:8080/"
        },
        "id": "U24ZGeIHBlcz",
        "outputId": "73817476-fd13-4479-f91d-1b4b6e8920d3"
      },
      "execution_count": 15,
      "outputs": [
        {
          "output_type": "stream",
          "name": "stdout",
          "text": [
            "Writing 10.c\n"
          ]
        }
      ]
    },
    {
      "cell_type": "code",
      "source": [
        "!gcc 10.c -o 10\n",
        "!chmod +x 10\n",
        "!./10"
      ],
      "metadata": {
        "colab": {
          "base_uri": "https://localhost:8080/"
        },
        "id": "v2IV03YFBv0h",
        "outputId": "24cb1412-b973-4707-e14e-99b48bf6a05c"
      },
      "execution_count": 18,
      "outputs": [
        {
          "output_type": "stream",
          "name": "stdout",
          "text": [
            "Enter details for initial 3 students:\n",
            "Student 1:\n",
            "ID: 1\n",
            "Name: Prabhjot\n",
            "Age: 23\n",
            "\n",
            "Student 2:\n",
            "ID: 2\n",
            "Name: Veeky\n",
            "Age: 24\n",
            "\n",
            "Student 3:\n",
            "ID: 3\n",
            "Name: Vishesh\n",
            "Age: 24\n",
            "\n",
            "Enter details for additional 2 students:\n",
            "Student 4:\n",
            "ID: 4\n",
            "Name: Rohit\n",
            "Age: 25\n",
            "\n",
            "Student 5:\n",
            "ID: 5\n",
            "Name: Mohit\n",
            "Age: 26\n",
            "\n",
            "\n",
            "All 5 students:\n",
            "Student 1: ID=1, Name=Prabhjot, Age=23\n",
            "Student 2: ID=2, Name=Veeky, Age=24\n",
            "Student 3: ID=3, Name=Vishesh, Age=24\n",
            "Student 4: ID=4, Name=Rohit, Age=25\n",
            "Student 5: ID=5, Name=Mohit, Age=26\n"
          ]
        }
      ]
    }
  ]
}